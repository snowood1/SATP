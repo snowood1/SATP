{
 "cells": [
  {
   "cell_type": "code",
   "execution_count": 1,
   "metadata": {
    "ExecuteTime": {
     "end_time": "2020-12-23T17:41:19.848770Z",
     "start_time": "2020-12-23T17:41:18.904349Z"
    }
   },
   "outputs": [],
   "source": [
    "import numpy as np\n",
    "import pandas as pd\n",
    "from sklearn import metrics\n",
    "import transformers\n",
    "import torch\n",
    "from torch.utils.data import Dataset, DataLoader, RandomSampler, SequentialSampler\n",
    "from transformers import BertTokenizer, BertModel, BertConfig\n",
    "from sklearn.metrics import recall_score, precision_score, f1_score, accuracy_score"
   ]
  },
  {
   "cell_type": "code",
   "execution_count": 2,
   "metadata": {
    "ExecuteTime": {
     "end_time": "2020-12-23T17:41:19.862996Z",
     "start_time": "2020-12-23T17:41:19.850487Z"
    }
   },
   "outputs": [],
   "source": [
    "from torch import cuda\n",
    "device = 'cuda:1' if cuda.is_available() else 'cpu'"
   ]
  },
  {
   "cell_type": "code",
   "execution_count": 3,
   "metadata": {
    "ExecuteTime": {
     "end_time": "2020-12-23T17:41:20.320013Z",
     "start_time": "2020-12-23T17:41:20.250812Z"
    }
   },
   "outputs": [
    {
     "name": "stdout",
     "output_type": "stream",
     "text": [
      "TRAIN Dataset: (5956, 11)\n",
      "TEST Dataset: (1489, 11)\n"
     ]
    }
   ],
   "source": [
    "train_dataset = pd.read_csv(\"./save_not_reduced_bert/train.csv\")\n",
    "test_dataset = pd.read_csv(\"./save_not_reduced_bert/test.csv\")\n",
    "print(\"TRAIN Dataset: {}\".format(train_dataset.shape))\n",
    "print(\"TEST Dataset: {}\".format(test_dataset.shape))\n",
    "\n",
    "train_dataset['list'] = train_dataset.iloc[:,1:].values.astype(int).tolist()\n",
    "test_dataset['list'] = test_dataset.iloc[:,1:].values.astype(int).tolist()\n",
    "\n",
    "train_dataset = train_dataset[['news', 'list']].rename(columns={\"news\": \"comment_text\"})\n",
    "test_dataset = test_dataset[['news', 'list']].rename(columns={\"news\": \"comment_text\"})"
   ]
  },
  {
   "cell_type": "code",
   "execution_count": 4,
   "metadata": {
    "ExecuteTime": {
     "end_time": "2020-12-23T17:41:25.694636Z",
     "start_time": "2020-12-23T17:41:25.099390Z"
    }
   },
   "outputs": [
    {
     "data": {
      "text/plain": [
       "<AxesSubplot:ylabel='Frequency'>"
      ]
     },
     "execution_count": 4,
     "metadata": {},
     "output_type": "execute_result"
    },
    {
     "data": {
      "image/png": "[encoded data removed]",
      "text/plain": [
       "<Figure size 432x288 with 1 Axes>"
      ]
     },
     "metadata": {
      "needs_background": "light"
     },
     "output_type": "display_data"
    }
   ],
   "source": [
    "MAX_LEN = 512\n",
    "TRAIN_BATCH_SIZE = 32\n",
    "VALID_BATCH_SIZE = 32\n",
    "EPOCHS = 1\n",
    "LEARNING_RATE = 1e-05\n",
    "tokenizer = BertTokenizer.from_pretrained('bert-base-uncased')\n",
    "\n",
    "train_dataset.comment_text.str.split().str.len().plot.hist()"
   ]
  },
  {
   "cell_type": "code",
   "execution_count": 5,
   "metadata": {
    "ExecuteTime": {
     "end_time": "2020-12-23T07:26:55.543916Z",
     "start_time": "2020-12-23T07:26:55.540126Z"
    }
   },
   "outputs": [],
   "source": [
    "class CustomDataset(Dataset):\n",
    "\n",
    "    def __init__(self, dataframe, tokenizer, max_len):\n",
    "        self.tokenizer = tokenizer\n",
    "        self.data = dataframe\n",
    "        self.comment_text = dataframe.comment_text\n",
    "        self.targets = self.data.list\n",
    "        self.max_len = max_len\n",
    "\n",
    "    def __len__(self):\n",
    "        return len(self.comment_text)\n",
    "\n",
    "    def __getitem__(self, index):\n",
    "        comment_text = str(self.comment_text[index])\n",
    "        comment_text = \" \".join(comment_text.split())\n",
    "\n",
    "        inputs = self.tokenizer.encode_plus(\n",
    "            comment_text,\n",
    "            None,\n",
    "            add_special_tokens=True,\n",
    "            max_length=self.max_len,\n",
    "            pad_to_max_length=True,\n",
    "            return_token_type_ids=True,\n",
    "            truncation=True  #####   TODO\n",
    "        )\n",
    "        ids = inputs['input_ids']\n",
    "        mask = inputs['attention_mask']\n",
    "        token_type_ids = inputs[\"token_type_ids\"]\n",
    "\n",
    "\n",
    "        return {\n",
    "            'ids': torch.tensor(ids, dtype=torch.long),\n",
    "            'mask': torch.tensor(mask, dtype=torch.long),\n",
    "            'token_type_ids': torch.tensor(token_type_ids, dtype=torch.long),\n",
    "            'targets': torch.tensor(self.targets[index], dtype=torch.float)\n",
    "        }"
   ]
  },
  {
   "cell_type": "code",
   "execution_count": 6,
   "metadata": {
    "ExecuteTime": {
     "end_time": "2020-12-23T07:26:55.555940Z",
     "start_time": "2020-12-23T07:26:55.544762Z"
    }
   },
   "outputs": [],
   "source": [
    "training_set = CustomDataset(train_dataset, tokenizer, MAX_LEN)\n",
    "testing_set = CustomDataset(test_dataset, tokenizer, MAX_LEN)"
   ]
  },
  {
   "cell_type": "code",
   "execution_count": 7,
   "metadata": {
    "ExecuteTime": {
     "end_time": "2020-12-23T07:26:55.563030Z",
     "start_time": "2020-12-23T07:26:55.558170Z"
    }
   },
   "outputs": [],
   "source": [
    "train_params = {'batch_size': TRAIN_BATCH_SIZE,\n",
    "                'shuffle': True,\n",
    "                'num_workers': 0\n",
    "                }\n",
    "\n",
    "test_params = {'batch_size': VALID_BATCH_SIZE,\n",
    "                'shuffle': True,\n",
    "                'num_workers': 0\n",
    "                }\n",
    "\n",
    "training_loader = DataLoader(training_set, **train_params)\n",
    "testing_loader = DataLoader(testing_set, **test_params)"
   ]
  },
  {
   "cell_type": "markdown",
   "metadata": {},
   "source": [
    "# Creating the Neural Network for Fine Tuning"
   ]
  },
  {
   "cell_type": "code",
   "execution_count": 8,
   "metadata": {
    "ExecuteTime": {
     "end_time": "2020-12-23T07:26:59.302793Z",
     "start_time": "2020-12-23T07:26:55.566131Z"
    }
   },
   "outputs": [
    {
     "data": {
      "text/plain": [
       "BERTClass(\n",
       "  (l1): BertModel(\n",
       "    (embeddings): BertEmbeddings(\n",
       "      (word_embeddings): Embedding(30522, 768, padding_idx=0)\n",
       "      (position_embeddings): Embedding(512, 768)\n",
       "      (token_type_embeddings): Embedding(2, 768)\n",
       "      (LayerNorm): LayerNorm((768,), eps=1e-12, elementwise_affine=True)\n",
       "      (dropout): Dropout(p=0.1, inplace=False)\n",
       "    )\n",
       "    (encoder): BertEncoder(\n",
       "      (layer): ModuleList(\n",
       "        (0): BertLayer(\n",
       "          (attention): BertAttention(\n",
       "            (self): BertSelfAttention(\n",
       "              (query): Linear(in_features=768, out_features=768, bias=True)\n",
       "              (key): Linear(in_features=768, out_features=768, bias=True)\n",
       "              (value): Linear(in_features=768, out_features=768, bias=True)\n",
       "              (dropout): Dropout(p=0.1, inplace=False)\n",
       "            )\n",
       "            (output): BertSelfOutput(\n",
       "              (dense): Linear(in_features=768, out_features=768, bias=True)\n",
       "              (LayerNorm): LayerNorm((768,), eps=1e-12, elementwise_affine=True)\n",
       "              (dropout): Dropout(p=0.1, inplace=False)\n",
       "            )\n",
       "          )\n",
       "          (intermediate): BertIntermediate(\n",
       "            (dense): Linear(in_features=768, out_features=3072, bias=True)\n",
       "          )\n",
       "          (output): BertOutput(\n",
       "            (dense): Linear(in_features=3072, out_features=768, bias=True)\n",
       "            (LayerNorm): LayerNorm((768,), eps=1e-12, elementwise_affine=True)\n",
       "            (dropout): Dropout(p=0.1, inplace=False)\n",
       "          )\n",
       "        )\n",
       "        (1): BertLayer(\n",
       "          (attention): BertAttention(\n",
       "            (self): BertSelfAttention(\n",
       "              (query): Linear(in_features=768, out_features=768, bias=True)\n",
       "              (key): Linear(in_features=768, out_features=768, bias=True)\n",
       "              (value): Linear(in_features=768, out_features=768, bias=True)\n",
       "              (dropout): Dropout(p=0.1, inplace=False)\n",
       "            )\n",
       "            (output): BertSelfOutput(\n",
       "              (dense): Linear(in_features=768, out_features=768, bias=True)\n",
       "              (LayerNorm): LayerNorm((768,), eps=1e-12, elementwise_affine=True)\n",
       "              (dropout): Dropout(p=0.1, inplace=False)\n",
       "            )\n",
       "          )\n",
       "          (intermediate): BertIntermediate(\n",
       "            (dense): Linear(in_features=768, out_features=3072, bias=True)\n",
       "          )\n",
       "          (output): BertOutput(\n",
       "            (dense): Linear(in_features=3072, out_features=768, bias=True)\n",
       "            (LayerNorm): LayerNorm((768,), eps=1e-12, elementwise_affine=True)\n",
       "            (dropout): Dropout(p=0.1, inplace=False)\n",
       "          )\n",
       "        )\n",
       "        (2): BertLayer(\n",
       "          (attention): BertAttention(\n",
       "            (self): BertSelfAttention(\n",
       "              (query): Linear(in_features=768, out_features=768, bias=True)\n",
       "              (key): Linear(in_features=768, out_features=768, bias=True)\n",
       "              (value): Linear(in_features=768, out_features=768, bias=True)\n",
       "              (dropout): Dropout(p=0.1, inplace=False)\n",
       "            )\n",
       "            (output): BertSelfOutput(\n",
       "              (dense): Linear(in_features=768, out_features=768, bias=True)\n",
       "              (LayerNorm): LayerNorm((768,), eps=1e-12, elementwise_affine=True)\n",
       "              (dropout): Dropout(p=0.1, inplace=False)\n",
       "            )\n",
       "          )\n",
       "          (intermediate): BertIntermediate(\n",
       "            (dense): Linear(in_features=768, out_features=3072, bias=True)\n",
       "          )\n",
       "          (output): BertOutput(\n",
       "            (dense): Linear(in_features=3072, out_features=768, bias=True)\n",
       "            (LayerNorm): LayerNorm((768,), eps=1e-12, elementwise_affine=True)\n",
       "            (dropout): Dropout(p=0.1, inplace=False)\n",
       "          )\n",
       "        )\n",
       "        (3): BertLayer(\n",
       "          (attention): BertAttention(\n",
       "            (self): BertSelfAttention(\n",
       "              (query): Linear(in_features=768, out_features=768, bias=True)\n",
       "              (key): Linear(in_features=768, out_features=768, bias=True)\n",
       "              (value): Linear(in_features=768, out_features=768, bias=True)\n",
       "              (dropout): Dropout(p=0.1, inplace=False)\n",
       "            )\n",
       "            (output): BertSelfOutput(\n",
       "              (dense): Linear(in_features=768, out_features=768, bias=True)\n",
       "              (LayerNorm): LayerNorm((768,), eps=1e-12, elementwise_affine=True)\n",
       "              (dropout): Dropout(p=0.1, inplace=False)\n",
       "            )\n",
       "          )\n",
       "          (intermediate): BertIntermediate(\n",
       "            (dense): Linear(in_features=768, out_features=3072, bias=True)\n",
       "          )\n",
       "          (output): BertOutput(\n",
       "            (dense): Linear(in_features=3072, out_features=768, bias=True)\n",
       "            (LayerNorm): LayerNorm((768,), eps=1e-12, elementwise_affine=True)\n",
       "            (dropout): Dropout(p=0.1, inplace=False)\n",
       "          )\n",
       "        )\n",
       "        (4): BertLayer(\n",
       "          (attention): BertAttention(\n",
       "            (self): BertSelfAttention(\n",
       "              (query): Linear(in_features=768, out_features=768, bias=True)\n",
       "              (key): Linear(in_features=768, out_features=768, bias=True)\n",
       "              (value): Linear(in_features=768, out_features=768, bias=True)\n",
       "              (dropout): Dropout(p=0.1, inplace=False)\n",
       "            )\n",
       "            (output): BertSelfOutput(\n",
       "              (dense): Linear(in_features=768, out_features=768, bias=True)\n",
       "              (LayerNorm): LayerNorm((768,), eps=1e-12, elementwise_affine=True)\n",
       "              (dropout): Dropout(p=0.1, inplace=False)\n",
       "            )\n",
       "          )\n",
       "          (intermediate): BertIntermediate(\n",
       "            (dense): Linear(in_features=768, out_features=3072, bias=True)\n",
       "          )\n",
       "          (output): BertOutput(\n",
       "            (dense): Linear(in_features=3072, out_features=768, bias=True)\n",
       "            (LayerNorm): LayerNorm((768,), eps=1e-12, elementwise_affine=True)\n",
       "            (dropout): Dropout(p=0.1, inplace=False)\n",
       "          )\n",
       "        )\n",
       "        (5): BertLayer(\n",
       "          (attention): BertAttention(\n",
       "            (self): BertSelfAttention(\n",
       "              (query): Linear(in_features=768, out_features=768, bias=True)\n",
       "              (key): Linear(in_features=768, out_features=768, bias=True)\n",
       "              (value): Linear(in_features=768, out_features=768, bias=True)\n",
       "              (dropout): Dropout(p=0.1, inplace=False)\n",
       "            )\n",
       "            (output): BertSelfOutput(\n",
       "              (dense): Linear(in_features=768, out_features=768, bias=True)\n",
       "              (LayerNorm): LayerNorm((768,), eps=1e-12, elementwise_affine=True)\n",
       "              (dropout): Dropout(p=0.1, inplace=False)\n",
       "            )\n",
       "          )\n",
       "          (intermediate): BertIntermediate(\n",
       "            (dense): Linear(in_features=768, out_features=3072, bias=True)\n",
       "          )\n",
       "          (output): BertOutput(\n",
       "            (dense): Linear(in_features=3072, out_features=768, bias=True)\n",
       "            (LayerNorm): LayerNorm((768,), eps=1e-12, elementwise_affine=True)\n",
       "            (dropout): Dropout(p=0.1, inplace=False)\n",
       "          )\n",
       "        )\n",
       "        (6): BertLayer(\n",
       "          (attention): BertAttention(\n",
       "            (self): BertSelfAttention(\n",
       "              (query): Linear(in_features=768, out_features=768, bias=True)\n",
       "              (key): Linear(in_features=768, out_features=768, bias=True)\n",
       "              (value): Linear(in_features=768, out_features=768, bias=True)\n",
       "              (dropout): Dropout(p=0.1, inplace=False)\n",
       "            )\n",
       "            (output): BertSelfOutput(\n",
       "              (dense): Linear(in_features=768, out_features=768, bias=True)\n",
       "              (LayerNorm): LayerNorm((768,), eps=1e-12, elementwise_affine=True)\n",
       "              (dropout): Dropout(p=0.1, inplace=False)\n",
       "            )\n",
       "          )\n",
       "          (intermediate): BertIntermediate(\n",
       "            (dense): Linear(in_features=768, out_features=3072, bias=True)\n",
       "          )\n",
       "          (output): BertOutput(\n",
       "            (dense): Linear(in_features=3072, out_features=768, bias=True)\n",
       "            (LayerNorm): LayerNorm((768,), eps=1e-12, elementwise_affine=True)\n",
       "            (dropout): Dropout(p=0.1, inplace=False)\n",
       "          )\n",
       "        )\n",
       "        (7): BertLayer(\n",
       "          (attention): BertAttention(\n",
       "            (self): BertSelfAttention(\n",
       "              (query): Linear(in_features=768, out_features=768, bias=True)\n",
       "              (key): Linear(in_features=768, out_features=768, bias=True)\n",
       "              (value): Linear(in_features=768, out_features=768, bias=True)\n",
       "              (dropout): Dropout(p=0.1, inplace=False)\n",
       "            )\n",
       "            (output): BertSelfOutput(\n",
       "              (dense): Linear(in_features=768, out_features=768, bias=True)\n",
       "              (LayerNorm): LayerNorm((768,), eps=1e-12, elementwise_affine=True)\n",
       "              (dropout): Dropout(p=0.1, inplace=False)\n",
       "            )\n",
       "          )\n",
       "          (intermediate): BertIntermediate(\n",
       "            (dense): Linear(in_features=768, out_features=3072, bias=True)\n",
       "          )\n",
       "          (output): BertOutput(\n",
       "            (dense): Linear(in_features=3072, out_features=768, bias=True)\n",
       "            (LayerNorm): LayerNorm((768,), eps=1e-12, elementwise_affine=True)\n",
       "            (dropout): Dropout(p=0.1, inplace=False)\n",
       "          )\n",
       "        )\n",
       "        (8): BertLayer(\n",
       "          (attention): BertAttention(\n",
       "            (self): BertSelfAttention(\n",
       "              (query): Linear(in_features=768, out_features=768, bias=True)\n",
       "              (key): Linear(in_features=768, out_features=768, bias=True)\n",
       "              (value): Linear(in_features=768, out_features=768, bias=True)\n",
       "              (dropout): Dropout(p=0.1, inplace=False)\n",
       "            )\n",
       "            (output): BertSelfOutput(\n",
       "              (dense): Linear(in_features=768, out_features=768, bias=True)\n",
       "              (LayerNorm): LayerNorm((768,), eps=1e-12, elementwise_affine=True)\n",
       "              (dropout): Dropout(p=0.1, inplace=False)\n",
       "            )\n",
       "          )\n",
       "          (intermediate): BertIntermediate(\n",
       "            (dense): Linear(in_features=768, out_features=3072, bias=True)\n",
       "          )\n",
       "          (output): BertOutput(\n",
       "            (dense): Linear(in_features=3072, out_features=768, bias=True)\n",
       "            (LayerNorm): LayerNorm((768,), eps=1e-12, elementwise_affine=True)\n",
       "            (dropout): Dropout(p=0.1, inplace=False)\n",
       "          )\n",
       "        )\n",
       "        (9): BertLayer(\n",
       "          (attention): BertAttention(\n",
       "            (self): BertSelfAttention(\n",
       "              (query): Linear(in_features=768, out_features=768, bias=True)\n",
       "              (key): Linear(in_features=768, out_features=768, bias=True)\n",
       "              (value): Linear(in_features=768, out_features=768, bias=True)\n",
       "              (dropout): Dropout(p=0.1, inplace=False)\n",
       "            )\n",
       "            (output): BertSelfOutput(\n",
       "              (dense): Linear(in_features=768, out_features=768, bias=True)\n",
       "              (LayerNorm): LayerNorm((768,), eps=1e-12, elementwise_affine=True)\n",
       "              (dropout): Dropout(p=0.1, inplace=False)\n",
       "            )\n",
       "          )\n",
       "          (intermediate): BertIntermediate(\n",
       "            (dense): Linear(in_features=768, out_features=3072, bias=True)\n",
       "          )\n",
       "          (output): BertOutput(\n",
       "            (dense): Linear(in_features=3072, out_features=768, bias=True)\n",
       "            (LayerNorm): LayerNorm((768,), eps=1e-12, elementwise_affine=True)\n",
       "            (dropout): Dropout(p=0.1, inplace=False)\n",
       "          )\n",
       "        )\n",
       "        (10): BertLayer(\n",
       "          (attention): BertAttention(\n",
       "            (self): BertSelfAttention(\n",
       "              (query): Linear(in_features=768, out_features=768, bias=True)\n",
       "              (key): Linear(in_features=768, out_features=768, bias=True)\n",
       "              (value): Linear(in_features=768, out_features=768, bias=True)\n",
       "              (dropout): Dropout(p=0.1, inplace=False)\n",
       "            )\n",
       "            (output): BertSelfOutput(\n",
       "              (dense): Linear(in_features=768, out_features=768, bias=True)\n",
       "              (LayerNorm): LayerNorm((768,), eps=1e-12, elementwise_affine=True)\n",
       "              (dropout): Dropout(p=0.1, inplace=False)\n",
       "            )\n",
       "          )\n",
       "          (intermediate): BertIntermediate(\n",
       "            (dense): Linear(in_features=768, out_features=3072, bias=True)\n",
       "          )\n",
       "          (output): BertOutput(\n",
       "            (dense): Linear(in_features=3072, out_features=768, bias=True)\n",
       "            (LayerNorm): LayerNorm((768,), eps=1e-12, elementwise_affine=True)\n",
       "            (dropout): Dropout(p=0.1, inplace=False)\n",
       "          )\n",
       "        )\n",
       "        (11): BertLayer(\n",
       "          (attention): BertAttention(\n",
       "            (self): BertSelfAttention(\n",
       "              (query): Linear(in_features=768, out_features=768, bias=True)\n",
       "              (key): Linear(in_features=768, out_features=768, bias=True)\n",
       "              (value): Linear(in_features=768, out_features=768, bias=True)\n",
       "              (dropout): Dropout(p=0.1, inplace=False)\n",
       "            )\n",
       "            (output): BertSelfOutput(\n",
       "              (dense): Linear(in_features=768, out_features=768, bias=True)\n",
       "              (LayerNorm): LayerNorm((768,), eps=1e-12, elementwise_affine=True)\n",
       "              (dropout): Dropout(p=0.1, inplace=False)\n",
       "            )\n",
       "          )\n",
       "          (intermediate): BertIntermediate(\n",
       "            (dense): Linear(in_features=768, out_features=3072, bias=True)\n",
       "          )\n",
       "          (output): BertOutput(\n",
       "            (dense): Linear(in_features=3072, out_features=768, bias=True)\n",
       "            (LayerNorm): LayerNorm((768,), eps=1e-12, elementwise_affine=True)\n",
       "            (dropout): Dropout(p=0.1, inplace=False)\n",
       "          )\n",
       "        )\n",
       "      )\n",
       "    )\n",
       "    (pooler): BertPooler(\n",
       "      (dense): Linear(in_features=768, out_features=768, bias=True)\n",
       "      (activation): Tanh()\n",
       "    )\n",
       "  )\n",
       "  (l2): Dropout(p=0.3, inplace=False)\n",
       "  (l3): Linear(in_features=768, out_features=10, bias=True)\n",
       ")"
      ]
     },
     "execution_count": 8,
     "metadata": {},
     "output_type": "execute_result"
    }
   ],
   "source": [
    "class BERTClass(torch.nn.Module):\n",
    "    def __init__(self, num_class):\n",
    "        super(BERTClass, self).__init__()\n",
    "        self.l1 = transformers.BertModel.from_pretrained('bert-base-uncased')\n",
    "        self.l2 = torch.nn.Dropout(0.3)\n",
    "        self.l3 = torch.nn.Linear(768, num_class)\n",
    "    \n",
    "    def forward(self, ids, mask, token_type_ids):\n",
    "        _, output_1= self.l1(ids, attention_mask = mask, token_type_ids = token_type_ids)\n",
    "        output_2 = self.l2(output_1)\n",
    "        output = self.l3(output_2)\n",
    "        return output\n",
    "\n",
    "num_class = len(test_dataset.list[0])    \n",
    "    \n",
    "model = BERTClass(num_class)\n",
    "model.to(device)"
   ]
  },
  {
   "cell_type": "code",
   "execution_count": 9,
   "metadata": {
    "ExecuteTime": {
     "end_time": "2020-12-23T07:26:59.453852Z",
     "start_time": "2020-12-23T07:26:59.303936Z"
    }
   },
   "outputs": [
    {
     "data": {
      "text/plain": [
       "<All keys matched successfully>"
      ]
     },
     "execution_count": 9,
     "metadata": {},
     "output_type": "execute_result"
    }
   ],
   "source": [
    "model.load_state_dict(torch.load('save_not_reduced_bert/transformer.pth'))"
   ]
  },
  {
   "cell_type": "code",
   "execution_count": 10,
   "metadata": {
    "ExecuteTime": {
     "end_time": "2020-12-23T07:26:59.457866Z",
     "start_time": "2020-12-23T07:26:59.454901Z"
    }
   },
   "outputs": [],
   "source": [
    "def loss_fn(outputs, targets):\n",
    "    return torch.nn.BCEWithLogitsLoss()(outputs, targets)\n",
    "\n",
    "optimizer = torch.optim.Adam(params =  model.parameters(), lr=LEARNING_RATE)"
   ]
  },
  {
   "cell_type": "markdown",
   "metadata": {},
   "source": [
    "# Fine Tuning the Model"
   ]
  },
  {
   "cell_type": "code",
   "execution_count": 11,
   "metadata": {
    "ExecuteTime": {
     "end_time": "2020-12-23T07:27:02.665965Z",
     "start_time": "2020-12-23T07:27:02.653317Z"
    }
   },
   "outputs": [],
   "source": [
    "def train(epoch):\n",
    "    model.train()\n",
    "    for _,data in enumerate(training_loader, 0):\n",
    "        ids = data['ids'].to(device, dtype = torch.long)\n",
    "        mask = data['mask'].to(device, dtype = torch.long)\n",
    "        token_type_ids = data['token_type_ids'].to(device, dtype = torch.long)\n",
    "        targets = data['targets'].to(device, dtype = torch.float)\n",
    "\n",
    "        outputs = model(ids, mask, token_type_ids)\n",
    "\n",
    "        optimizer.zero_grad()\n",
    "        loss = loss_fn(outputs, targets)\n",
    "        if _%5000==0:\n",
    "            print(f'Epoch: {epoch}, Loss:  {loss.item()}')\n",
    "        \n",
    "        optimizer.zero_grad()\n",
    "        loss.backward()\n",
    "        optimizer.step()\n",
    "        \n",
    "def validation(epoch):\n",
    "    model.eval()\n",
    "    fin_targets=[]\n",
    "    fin_outputs=[]\n",
    "    with torch.no_grad():\n",
    "        for _, data in enumerate(testing_loader, 0):\n",
    "            ids = data['ids'].to(device, dtype = torch.long)\n",
    "            mask = data['mask'].to(device, dtype = torch.long)\n",
    "            token_type_ids = data['token_type_ids'].to(device, dtype = torch.long)\n",
    "            targets = data['targets'].to(device, dtype = torch.float)\n",
    "            outputs = model(ids, mask, token_type_ids)\n",
    "            fin_targets.extend(targets.cpu().detach().numpy().tolist())\n",
    "            fin_outputs.extend(torch.sigmoid(outputs).cpu().detach().numpy().tolist())\n",
    "    return fin_outputs, fin_targets"
   ]
  },
  {
   "cell_type": "code",
   "execution_count": 24,
   "metadata": {
    "ExecuteTime": {
     "end_time": "2020-12-23T06:17:07.555804Z",
     "start_time": "2020-12-23T06:17:07.552490Z"
    }
   },
   "outputs": [],
   "source": [
    "# EPOCHS=10"
   ]
  },
  {
   "cell_type": "code",
   "execution_count": 25,
   "metadata": {
    "ExecuteTime": {
     "end_time": "2020-12-23T06:55:29.936936Z",
     "start_time": "2020-12-23T06:17:08.842277Z"
    },
    "scrolled": false
   },
   "outputs": [
    {
     "name": "stdout",
     "output_type": "stream",
     "text": [
      "\n",
      "\n",
      "Epoch: 0, Loss:  0.6830872297286987\n",
      "Accuracy Score = 0.7696440564137005\n",
      "F1 Score (Micro) = 0.013531799729364004\n",
      "F1 Score (Macro) = 0.002873563218390805\n",
      "\n",
      "\n",
      "Epoch: 1, Loss:  0.15556316077709198\n",
      "Accuracy Score = 0.7877770315648086\n",
      "F1 Score (Micro) = 0.6592178770949721\n",
      "F1 Score (Macro) = 0.19440961995407466\n",
      "\n",
      "\n",
      "Epoch: 2, Loss:  0.08720336854457855\n",
      "Accuracy Score = 0.8334452652787105\n",
      "F1 Score (Micro) = 0.7236842105263159\n",
      "F1 Score (Macro) = 0.22978943558714898\n",
      "\n",
      "\n",
      "Epoch: 3, Loss:  0.09913261234760284\n",
      "Accuracy Score = 0.8361316319677636\n",
      "F1 Score (Micro) = 0.7513368983957219\n",
      "F1 Score (Macro) = 0.274734312645626\n",
      "\n",
      "\n",
      "Epoch: 4, Loss:  0.04411693289875984\n",
      "Accuracy Score = 0.8703828072531901\n",
      "F1 Score (Micro) = 0.7779390420899855\n",
      "F1 Score (Macro) = 0.34434495201066284\n",
      "\n",
      "\n",
      "Epoch: 5, Loss:  0.019549701362848282\n",
      "Accuracy Score = 0.867696440564137\n",
      "F1 Score (Micro) = 0.7774725274725275\n",
      "F1 Score (Macro) = 0.37330630000832205\n",
      "\n",
      "\n",
      "Epoch: 6, Loss:  0.036784976720809937\n",
      "Accuracy Score = 0.8636668905305575\n",
      "F1 Score (Micro) = 0.7825520833333333\n",
      "F1 Score (Macro) = 0.4227652417927904\n",
      "\n",
      "\n",
      "Epoch: 7, Loss:  0.018593112006783485\n",
      "Accuracy Score = 0.8744123572867697\n",
      "F1 Score (Micro) = 0.7806539509536784\n",
      "F1 Score (Macro) = 0.4040784749094068\n",
      "\n",
      "\n",
      "Epoch: 8, Loss:  0.05069388076663017\n",
      "Accuracy Score = 0.8764271323035594\n",
      "F1 Score (Micro) = 0.7761607761607762\n",
      "F1 Score (Macro) = 0.42028515621782947\n",
      "\n",
      "\n",
      "Epoch: 9, Loss:  0.028685349971055984\n",
      "Accuracy Score = 0.8670248488918737\n",
      "F1 Score (Micro) = 0.7753530166880616\n",
      "F1 Score (Macro) = 0.42286422866273476\n"
     ]
    }
   ],
   "source": [
    "# for epoch in range(10,20):\n",
    "#     print('\\n')\n",
    "#     train(epoch)\n",
    "        \n",
    "#     outputs, targets = validation(epoch)\n",
    "#     outputs = np.array(outputs) >= 0.5\n",
    "#     accuracy = accuracy_score(targets, outputs)\n",
    "#     f1_score_micro = f1_score(targets, outputs, average='micro')\n",
    "#     f1_score_macro = f1_score(targets, outputs, average='macro')\n",
    "#     print(f\"Accuracy Score = {accuracy}\")\n",
    "#     print(f\"F1 Score (Micro) = {f1_score_micro}\")\n",
    "#     print(f\"F1 Score (Macro) = {f1_score_macro}\")"
   ]
  },
  {
   "cell_type": "code",
   "execution_count": 11,
   "metadata": {
    "ExecuteTime": {
     "end_time": "2020-12-23T07:24:34.544134Z",
     "start_time": "2020-12-23T07:24:34.347909Z"
    }
   },
   "outputs": [
    {
     "data": {
      "text/plain": [
       "<All keys matched successfully>"
      ]
     },
     "execution_count": 11,
     "metadata": {},
     "output_type": "execute_result"
    }
   ],
   "source": [
    "# torch.save(model.state_dict(), 'save_not_reduced_bert/transformer20.pth')\n",
    "# model.load_state_dict(torch.load('save_not_reduced_bert/transformer.pth'))"
   ]
  },
  {
   "cell_type": "code",
   "execution_count": 12,
   "metadata": {
    "ExecuteTime": {
     "end_time": "2020-12-23T08:05:23.066445Z",
     "start_time": "2020-12-23T07:27:06.100367Z"
    }
   },
   "outputs": [
    {
     "name": "stdout",
     "output_type": "stream",
     "text": [
      "\n",
      "\n",
      "Epoch: 10, Loss:  0.015894897282123566\n",
      "Accuracy Score = 0.8791134989926125\n",
      "F1 Score (Micro) = 0.782312925170068\n",
      "F1 Score (Macro) = 0.4235835272861285\n",
      "\n",
      "\n",
      "Epoch: 11, Loss:  0.01973828114569187\n",
      "Accuracy Score = 0.8717259905977166\n",
      "F1 Score (Micro) = 0.773936170212766\n",
      "F1 Score (Macro) = 0.41171818120832526\n",
      "\n",
      "\n",
      "Epoch: 12, Loss:  0.01271072681993246\n",
      "Accuracy Score = 0.8797850906648758\n",
      "F1 Score (Micro) = 0.7826086956521741\n",
      "F1 Score (Macro) = 0.4287930543884787\n",
      "\n",
      "\n",
      "Epoch: 13, Loss:  0.04059185832738876\n",
      "Accuracy Score = 0.8777703156480859\n",
      "F1 Score (Micro) = 0.7774725274725275\n",
      "F1 Score (Macro) = 0.4393664359978805\n",
      "\n",
      "\n",
      "Epoch: 14, Loss:  0.013645203784108162\n",
      "Accuracy Score = 0.8744123572867697\n",
      "F1 Score (Micro) = 0.7756452680344144\n",
      "F1 Score (Macro) = 0.43572146525521427\n",
      "\n",
      "\n",
      "Epoch: 15, Loss:  0.025084471330046654\n",
      "Accuracy Score = 0.8770987239758227\n",
      "F1 Score (Micro) = 0.7765667574931879\n",
      "F1 Score (Macro) = 0.4314090688404707\n",
      "\n",
      "\n",
      "Epoch: 16, Loss:  0.006465205457061529\n",
      "Accuracy Score = 0.8629952988582942\n",
      "F1 Score (Micro) = 0.7674418604651162\n",
      "F1 Score (Macro) = 0.4421780764636935\n",
      "\n",
      "\n",
      "Epoch: 17, Loss:  0.014106917195022106\n",
      "Accuracy Score = 0.8750839489590329\n",
      "F1 Score (Micro) = 0.770904146838885\n",
      "F1 Score (Macro) = 0.4353459570804244\n",
      "\n",
      "\n",
      "Epoch: 18, Loss:  0.011242269538342953\n",
      "Accuracy Score = 0.8777703156480859\n",
      "F1 Score (Micro) = 0.7893687707641196\n",
      "F1 Score (Macro) = 0.4948433911720704\n",
      "\n",
      "\n",
      "Epoch: 19, Loss:  0.0023978089448064566\n",
      "Accuracy Score = 0.8777703156480859\n",
      "F1 Score (Micro) = 0.7829036635006784\n",
      "F1 Score (Macro) = 0.47241282809741814\n"
     ]
    }
   ],
   "source": [
    "for epoch in range(10,20):\n",
    "    print('\\n')\n",
    "    train(epoch)\n",
    "        \n",
    "    outputs, targets = validation(epoch)\n",
    "    outputs = np.array(outputs) >= 0.5\n",
    "    accuracy = accuracy_score(targets, outputs)\n",
    "    f1_score_micro = f1_score(targets, outputs, average='micro')\n",
    "    f1_score_macro = f1_score(targets, outputs, average='macro')\n",
    "    print(f\"Accuracy Score = {accuracy}\")\n",
    "    print(f\"F1 Score (Micro) = {f1_score_micro}\")\n",
    "    print(f\"F1 Score (Macro) = {f1_score_macro}\")"
   ]
  },
  {
   "cell_type": "code",
   "execution_count": 13,
   "metadata": {
    "ExecuteTime": {
     "end_time": "2020-12-23T08:05:23.667548Z",
     "start_time": "2020-12-23T08:05:23.067654Z"
    },
    "scrolled": true
   },
   "outputs": [],
   "source": [
    "torch.save(model.state_dict(), 'save_not_reduced_bert/transformer20.pth')"
   ]
  },
  {
   "cell_type": "code",
   "execution_count": 14,
   "metadata": {
    "ExecuteTime": {
     "end_time": "2020-12-23T08:05:42.906507Z",
     "start_time": "2020-12-23T08:05:23.670253Z"
    }
   },
   "outputs": [],
   "source": [
    "outputs, targets = validation(epoch)\n",
    "outputs = np.array(outputs)\n",
    "targets = np.array(targets)"
   ]
  },
  {
   "cell_type": "code",
   "execution_count": 15,
   "metadata": {
    "ExecuteTime": {
     "end_time": "2020-12-23T08:05:42.910520Z",
     "start_time": "2020-12-23T08:05:42.907754Z"
    }
   },
   "outputs": [],
   "source": [
    "import pickle\n",
    "\n",
    "with open('save_not_reduced_bert/outputs20.pt', 'wb') as file:\n",
    "    pickle.dump(outputs, file)\n",
    "    \n",
    "with open('save_not_reduced_bert/targets20.pt', 'wb') as file:\n",
    "    pickle.dump(targets, file)\n"
   ]
  },
  {
   "cell_type": "code",
   "execution_count": 16,
   "metadata": {
    "ExecuteTime": {
     "end_time": "2020-12-23T08:05:43.842513Z",
     "start_time": "2020-12-23T08:05:42.911535Z"
    }
   },
   "outputs": [
    {
     "name": "stdout",
     "output_type": "stream",
     "text": [
      "threshold 0.1\n",
      "threshold 0.2\n"
     ]
    },
    {
     "name": "stderr",
     "output_type": "stream",
     "text": [
      "/home/yibo/miniconda3/lib/python3.8/site-packages/sklearn/metrics/_classification.py:1221: UndefinedMetricWarning: Precision is ill-defined and being set to 0.0 in labels with no predicted samples. Use `zero_division` parameter to control this behavior.\n",
      "  _warn_prf(average, modifier, msg_start, len(result))\n"
     ]
    },
    {
     "name": "stdout",
     "output_type": "stream",
     "text": [
      "threshold 0.3\n",
      "threshold 0.4\n",
      "threshold 0.5\n",
      "threshold 0.6\n",
      "threshold 0.7\n",
      "threshold 0.8\n",
      "threshold 0.9\n"
     ]
    }
   ],
   "source": [
    "df = pd.DataFrame(columns = ['threshold','type','accuracy', \n",
    "                             'recall(micro)', 'precision(micro)', 'f1(micro)', \n",
    "                             'recall(macro)', 'precision(macro)', 'f1(macro)', \n",
    "                            ])\n",
    "\n",
    "Threshold = np.around(np.linspace(0.1, 0.9, 9),1)\n",
    "\n",
    "for threshold in Threshold:\n",
    "    print('threshold', threshold)\n",
    "    pred = outputs >= threshold\n",
    "\n",
    "    df.loc[len(df)] = [threshold, \n",
    "                       'all', \n",
    "                       accuracy_score(targets, pred),\n",
    "                       recall_score(targets, pred, average='micro'),\n",
    "                       precision_score(targets, pred, average='micro'),\n",
    "                       f1_score(targets, pred, average='micro'),\n",
    "                       recall_score(targets, pred, average='macro'),\n",
    "                       precision_score(targets, pred, average='macro'),\n",
    "                       f1_score(targets, pred, average='macro')\n",
    "                       ]\n",
    "    \n",
    "    \n",
    "    df.loc[len(df)] = [threshold, \n",
    "                       'multi', \n",
    "                       accuracy_score(targets[:,1:], pred[:,1:]),\n",
    "                       recall_score(targets[:,1:], pred[:,1:], average='micro'),\n",
    "                       precision_score(targets[:,1:], pred[:,1:], average='micro'),\n",
    "                       f1_score(targets[:,1:], pred[:,1:], average='micro'),\n",
    "                       recall_score(targets[:,1:], pred[:,1:], average='macro'),\n",
    "                       precision_score(targets[:,1:], pred[:,1:], average='macro'),\n",
    "                       f1_score(targets[:,1:], pred[:,1:], average='macro')\n",
    "                       ]\n",
    "    \n",
    "    \n",
    "    \n",
    "    df_target = pd.DataFrame(targets)\n",
    "    df_target.columns = ['is_relevant', 'Armed Assault', 'Assassination',\n",
    "       'Barricade Incident', 'Bombing/Explosion',\n",
    "       'Facility/Infrastructure Attack', 'Hijacking', 'Kidnapping',\n",
    "       'Unarmed Assault', 'Unknown']\n",
    "\n",
    "    df_pred = pd.DataFrame(pred)\n",
    "    df_pred.columns = df_target.columns\n",
    "    \n",
    "    for col in df_pred.columns:\n",
    "\n",
    "        df.loc[len(df)] = [threshold, \n",
    "                           col, \n",
    "                           accuracy_score(df_target[col], df_pred[col]),\n",
    "                           recall_score(df_target[col], df_pred[col], average='micro'),\n",
    "                           precision_score(df_target[col], df_pred[col], average='micro'),\n",
    "                           f1_score(df_target[col], df_pred[col], average='micro'),\n",
    "                           recall_score(df_target[col], df_pred[col], average='macro'),\n",
    "                           precision_score(df_target[col], df_pred[col], average='macro'),\n",
    "                           f1_score(df_target[col], df_pred[col], average='macro')\n",
    "                           ]\n"
   ]
  },
  {
   "cell_type": "code",
   "execution_count": 17,
   "metadata": {
    "ExecuteTime": {
     "end_time": "2020-12-23T08:05:43.847344Z",
     "start_time": "2020-12-23T08:05:43.843369Z"
    }
   },
   "outputs": [],
   "source": [
    "df.to_csv('save_not_reduced_bert/saved_df20.csv')"
   ]
  },
  {
   "cell_type": "code",
   "execution_count": 18,
   "metadata": {
    "ExecuteTime": {
     "end_time": "2020-12-23T08:05:43.992598Z",
     "start_time": "2020-12-23T08:05:43.848226Z"
    }
   },
   "outputs": [
    {
     "data": {
      "image/png": "[encoded data removed]",
      "text/plain": [
       "<Figure size 432x288 with 1 Axes>"
      ]
     },
     "metadata": {
      "needs_background": "light"
     },
     "output_type": "display_data"
    }
   ],
   "source": [
    "df_select = df[df.type == 'all'][['f1(micro)','f1(macro)']].reset_index(drop=True);\n",
    "ax = df_select.plot(xticks=df_select.index, title = 'relevant + multi-label', );\n",
    "ax.set_xticklabels(np.around(Threshold,1));\n",
    "ax.set_xlabel('threshold');"
   ]
  },
  {
   "cell_type": "code",
   "execution_count": 19,
   "metadata": {
    "ExecuteTime": {
     "end_time": "2020-12-23T08:05:44.122254Z",
     "start_time": "2020-12-23T08:05:43.996070Z"
    }
   },
   "outputs": [
    {
     "data": {
      "image/png": "[encoded data removed]",
      "text/plain": [
       "<Figure size 432x288 with 1 Axes>"
      ]
     },
     "metadata": {
      "needs_background": "light"
     },
     "output_type": "display_data"
    }
   ],
   "source": [
    "df_select = df[df.type == 'is_relevant'][['f1(micro)','f1(macro)']].reset_index(drop=True)\n",
    "ax = df_select.plot(xticks=df_select.index, title = 'relevant');\n",
    "ax.set_xticklabels(np.around(Threshold,1));\n",
    "ax.set_xlabel('threshold');"
   ]
  },
  {
   "cell_type": "code",
   "execution_count": 20,
   "metadata": {
    "ExecuteTime": {
     "end_time": "2020-12-23T08:05:44.302853Z",
     "start_time": "2020-12-23T08:05:44.124316Z"
    }
   },
   "outputs": [
    {
     "data": {
      "image/png": "[encoded data removed]",
      "text/plain": [
       "<Figure size 432x288 with 1 Axes>"
      ]
     },
     "metadata": {
      "needs_background": "light"
     },
     "output_type": "display_data"
    }
   ],
   "source": [
    "df_select = df[df.type == 'multi'][['f1(micro)','f1(macro)']].reset_index(drop=True)\n",
    "ax = df_select.plot(xticks=df_select.index, title = 'multi-label');\n",
    "ax.set_xticklabels(np.around(Threshold,1));\n",
    "ax.set_xlabel('threshold');"
   ]
  },
  {
   "cell_type": "code",
   "execution_count": 21,
   "metadata": {
    "ExecuteTime": {
     "end_time": "2020-12-23T08:05:44.432134Z",
     "start_time": "2020-12-23T08:05:44.304089Z"
    }
   },
   "outputs": [
    {
     "name": "stdout",
     "output_type": "stream",
     "text": [
      "                             type  f1(micro)  f1(macro)\n",
      "0                   Armed Assault   0.948287   0.859367\n",
      "1                   Assassination   0.995299   0.680639\n",
      "2              Barricade Incident   0.999328   0.499832\n",
      "3               Bombing/Explosion   0.973136   0.917993\n",
      "4  Facility/Infrastructure Attack   0.983882   0.819406\n",
      "5                       Hijacking   0.998657   0.499664\n",
      "6                      Kidnapping   0.989926   0.823026\n",
      "7                 Unarmed Assault   0.990598   0.560137\n",
      "8                         Unknown   0.982539   0.745557\n"
     ]
    },
    {
     "data": {
      "image/png": "[encoded data removed]",
      "text/plain": [
       "<Figure size 432x288 with 1 Axes>"
      ]
     },
     "metadata": {
      "needs_background": "light"
     },
     "output_type": "display_data"
    }
   ],
   "source": [
    "df_select = df[df.type.isin(df_target.columns[1:]) ]\n",
    "df_select = df_select[df_select.threshold == 0.5][['type','f1(micro)','f1(macro)']]\n",
    "df_select = df_select.reset_index(drop=True)\n",
    "print(df_select)\n",
    "ax = df_select.plot.barh(title = 'multi-label;  threshold = 0.5');\n",
    "ax.set_yticklabels(df_target.columns[1:]);"
   ]
  },
  {
   "cell_type": "code",
   "execution_count": 23,
   "metadata": {
    "ExecuteTime": {
     "end_time": "2020-12-23T08:05:44.693865Z",
     "start_time": "2020-12-23T08:05:44.563320Z"
    }
   },
   "outputs": [
    {
     "name": "stdout",
     "output_type": "stream",
     "text": [
      "                             type  f1(micro)  f1(macro)\n",
      "0                   Armed Assault   0.950302   0.862033\n",
      "1                   Assassination   0.995299   0.680639\n",
      "2              Barricade Incident   0.999328   0.499832\n",
      "3               Bombing/Explosion   0.973136   0.917993\n",
      "4  Facility/Infrastructure Attack   0.985897   0.834857\n",
      "5                       Hijacking   0.998657   0.499664\n",
      "6                      Kidnapping   0.989926   0.823026\n",
      "7                 Unarmed Assault   0.990598   0.497638\n",
      "8                         Unknown   0.982539   0.724730\n"
     ]
    },
    {
     "data": {
      "image/png": "[encoded data removed]",
      "text/plain": [
       "<Figure size 432x288 with 1 Axes>"
      ]
     },
     "metadata": {
      "needs_background": "light"
     },
     "output_type": "display_data"
    }
   ],
   "source": [
    "df_select = df[df.type.isin(df_target.columns[1:]) ]\n",
    "df_select = df_select[df_select.threshold == 0.7][['type','f1(micro)','f1(macro)']]\n",
    "df_select = df_select.reset_index(drop=True)\n",
    "print(df_select)\n",
    "ax = df_select.plot.barh(title = 'multi-label;  threshold = 0.5');\n",
    "ax.set_yticklabels(df_target.columns[1:]);"
   ]
  },
  {
   "cell_type": "code",
   "execution_count": 24,
   "metadata": {
    "ExecuteTime": {
     "end_time": "2020-12-23T08:05:44.698373Z",
     "start_time": "2020-12-23T08:05:44.695774Z"
    }
   },
   "outputs": [],
   "source": [
    "exit()"
   ]
  }
 ],
 "metadata": {
  "kernelspec": {
   "display_name": "Python 3",
   "language": "python",
   "name": "python3"
  },
  "language_info": {
   "codemirror_mode": {
    "name": "ipython",
    "version": 3
   },
   "file_extension": ".py",
   "mimetype": "text/x-python",
   "name": "python",
   "nbconvert_exporter": "python",
   "pygments_lexer": "ipython3",
   "version": "3.8.3"
  },
  "toc": {
   "base_numbering": 1,
   "nav_menu": {},
   "number_sections": true,
   "sideBar": true,
   "skip_h1_title": false,
   "title_cell": "Table of Contents",
   "title_sidebar": "Contents",
   "toc_cell": false,
   "toc_position": {},
   "toc_section_display": true,
   "toc_window_display": false
  }
 },
 "nbformat": 4,
 "nbformat_minor": 4
}
