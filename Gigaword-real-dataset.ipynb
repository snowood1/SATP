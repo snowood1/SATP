{
 "cells": [
  {
   "cell_type": "code",
   "execution_count": 1,
   "metadata": {
    "ExecuteTime": {
     "end_time": "2021-02-18T00:19:01.944377Z",
     "start_time": "2021-02-18T00:19:01.940970Z"
    },
    "scrolled": true
   },
   "outputs": [],
   "source": [
    "# !pip install argparse\n",
    "# !pip install beautifulsoup4\n",
    "# !pip install spacy\n",
    "# !python -m spacy download en_core_web_sm\n",
    "# pip install pandarallel"
   ]
  },
  {
   "cell_type": "markdown",
   "metadata": {},
   "source": [
    "# Begin"
   ]
  },
  {
   "cell_type": "code",
   "execution_count": 1,
   "metadata": {
    "ExecuteTime": {
     "end_time": "2021-02-18T06:28:12.629437Z",
     "start_time": "2021-02-18T06:28:10.169206Z"
    }
   },
   "outputs": [
    {
     "name": "stdout",
     "output_type": "stream",
     "text": [
      "INFO: Pandarallel will run on 36 workers.\n",
      "INFO: Pandarallel will use Memory file system to transfer data between the main process and workers.\n"
     ]
    }
   ],
   "source": [
    "import logging\n",
    "import os\n",
    "import re\n",
    "import spacy\n",
    "en_nlp = spacy.load(\"en_core_web_sm\")\n",
    "import nltk\n",
    "import numpy as np\n",
    "import pathlib\n",
    "import pandas as pd\n",
    "\n",
    "from argparse import ArgumentParser\n",
    "from bs4 import BeautifulSoup\n",
    "from pandarallel import pandarallel\n",
    "pandarallel.initialize()"
   ]
  },
  {
   "cell_type": "markdown",
   "metadata": {},
   "source": [
    "# Get files Path"
   ]
  },
  {
   "cell_type": "code",
   "execution_count": 34,
   "metadata": {
    "ExecuteTime": {
     "end_time": "2021-02-18T06:23:36.900217Z",
     "start_time": "2021-02-18T06:23:36.825707Z"
    }
   },
   "outputs": [
    {
     "data": {
      "text/html": [
       "<div>\n",
       "<style scoped>\n",
       "    .dataframe tbody tr th:only-of-type {\n",
       "        vertical-align: middle;\n",
       "    }\n",
       "\n",
       "    .dataframe tbody tr th {\n",
       "        vertical-align: top;\n",
       "    }\n",
       "\n",
       "    .dataframe thead th {\n",
       "        text-align: right;\n",
       "    }\n",
       "</style>\n",
       "<table border=\"1\" class=\"dataframe\">\n",
       "  <thead>\n",
       "    <tr style=\"text-align: right;\">\n",
       "      <th></th>\n",
       "      <th>path</th>\n",
       "      <th>folder</th>\n",
       "      <th>filename</th>\n",
       "    </tr>\n",
       "  </thead>\n",
       "  <tbody>\n",
       "    <tr>\n",
       "      <th>0</th>\n",
       "      <td>Gigaword/cna_eng/cna_eng_200307</td>\n",
       "      <td>cna_eng</td>\n",
       "      <td>cna_eng_200307</td>\n",
       "    </tr>\n",
       "    <tr>\n",
       "      <th>1</th>\n",
       "      <td>Gigaword/cna_eng/cna_eng_200812</td>\n",
       "      <td>cna_eng</td>\n",
       "      <td>cna_eng_200812</td>\n",
       "    </tr>\n",
       "    <tr>\n",
       "      <th>2</th>\n",
       "      <td>Gigaword/cna_eng/cna_eng_200701</td>\n",
       "      <td>cna_eng</td>\n",
       "      <td>cna_eng_200701</td>\n",
       "    </tr>\n",
       "    <tr>\n",
       "      <th>3</th>\n",
       "      <td>Gigaword/cna_eng/cna_eng_200608</td>\n",
       "      <td>cna_eng</td>\n",
       "      <td>cna_eng_200608</td>\n",
       "    </tr>\n",
       "    <tr>\n",
       "      <th>4</th>\n",
       "      <td>Gigaword/cna_eng/cna_eng_201004</td>\n",
       "      <td>cna_eng</td>\n",
       "      <td>cna_eng_201004</td>\n",
       "    </tr>\n",
       "    <tr>\n",
       "      <th>...</th>\n",
       "      <td>...</td>\n",
       "      <td>...</td>\n",
       "      <td>...</td>\n",
       "    </tr>\n",
       "    <tr>\n",
       "      <th>1005</th>\n",
       "      <td>Gigaword/ltw_eng/ltw_eng_199504</td>\n",
       "      <td>ltw_eng</td>\n",
       "      <td>ltw_eng_199504</td>\n",
       "    </tr>\n",
       "    <tr>\n",
       "      <th>1006</th>\n",
       "      <td>Gigaword/ltw_eng/ltw_eng_200510</td>\n",
       "      <td>ltw_eng</td>\n",
       "      <td>ltw_eng_200510</td>\n",
       "    </tr>\n",
       "    <tr>\n",
       "      <th>1007</th>\n",
       "      <td>Gigaword/ltw_eng/ltw_eng_200410</td>\n",
       "      <td>ltw_eng</td>\n",
       "      <td>ltw_eng_200410</td>\n",
       "    </tr>\n",
       "    <tr>\n",
       "      <th>1008</th>\n",
       "      <td>Gigaword/ltw_eng/ltw_eng_200610</td>\n",
       "      <td>ltw_eng</td>\n",
       "      <td>ltw_eng_200610</td>\n",
       "    </tr>\n",
       "    <tr>\n",
       "      <th>1009</th>\n",
       "      <td>Gigaword/ltw_eng/ltw_eng_200908</td>\n",
       "      <td>ltw_eng</td>\n",
       "      <td>ltw_eng_200908</td>\n",
       "    </tr>\n",
       "  </tbody>\n",
       "</table>\n",
       "<p>1010 rows × 3 columns</p>\n",
       "</div>"
      ],
      "text/plain": [
       "                                 path   folder        filename\n",
       "0     Gigaword/cna_eng/cna_eng_200307  cna_eng  cna_eng_200307\n",
       "1     Gigaword/cna_eng/cna_eng_200812  cna_eng  cna_eng_200812\n",
       "2     Gigaword/cna_eng/cna_eng_200701  cna_eng  cna_eng_200701\n",
       "3     Gigaword/cna_eng/cna_eng_200608  cna_eng  cna_eng_200608\n",
       "4     Gigaword/cna_eng/cna_eng_201004  cna_eng  cna_eng_201004\n",
       "...                               ...      ...             ...\n",
       "1005  Gigaword/ltw_eng/ltw_eng_199504  ltw_eng  ltw_eng_199504\n",
       "1006  Gigaword/ltw_eng/ltw_eng_200510  ltw_eng  ltw_eng_200510\n",
       "1007  Gigaword/ltw_eng/ltw_eng_200410  ltw_eng  ltw_eng_200410\n",
       "1008  Gigaword/ltw_eng/ltw_eng_200610  ltw_eng  ltw_eng_200610\n",
       "1009  Gigaword/ltw_eng/ltw_eng_200908  ltw_eng  ltw_eng_200908\n",
       "\n",
       "[1010 rows x 3 columns]"
      ]
     },
     "execution_count": 34,
     "metadata": {},
     "output_type": "execute_result"
    }
   ],
   "source": [
    "path_list = pathlib.Path('./Gigaword').glob('**/*')\n",
    "\n",
    "df = pd.DataFrame(columns=['path','folder', 'filename'])\n",
    "df.path = [str(x) for x in path_list if x.is_file()]\n",
    "\n",
    "df.iloc[:,1:] = df.path.str.split('/', expand=True).iloc[:,1:].values\n",
    "df"
   ]
  },
  {
   "cell_type": "code",
   "execution_count": 35,
   "metadata": {
    "ExecuteTime": {
     "end_time": "2021-02-18T06:23:40.590910Z",
     "start_time": "2021-02-18T06:23:40.580564Z"
    }
   },
   "outputs": [],
   "source": [
    "def extract_text(file_path):\n",
    "    with open(file_path) as file:\n",
    "        soup = BeautifulSoup(file, \"html.parser\")\n",
    "    story_list = soup.find_all(type=\"story\")\n",
    "\n",
    "    all_paragraph = []\n",
    "    \n",
    "    for story in story_list:\n",
    "        headline = story.find('headline')\n",
    "        if headline:\n",
    "            headline = headline.text\n",
    "            headline = re.sub(r\"\\n\", \" \", headline)\n",
    "        else:\n",
    "            headline = 'None'\n",
    "\n",
    "        paragraph = story.find('text').text\n",
    "        paragraph = re.sub(r\"\\n+\", \"\\n\", paragraph)\n",
    "        paragraph = paragraph.replace(\"\\n\", \" \")\n",
    "        paragraph  = headline + '\\n\\n'+ paragraph\n",
    "        all_paragraph.append(paragraph)\n",
    "        \n",
    "    return all_paragraph"
   ]
  },
  {
   "cell_type": "code",
   "execution_count": 36,
   "metadata": {
    "ExecuteTime": {
     "end_time": "2021-02-18T06:27:18.357567Z",
     "start_time": "2021-02-18T06:23:42.677902Z"
    },
    "collapsed": true
   },
   "outputs": [
    {
     "name": "stderr",
     "output_type": "stream",
     "text": [
      "Process ForkPoolWorker-457:\n",
      "Process ForkPoolWorker-458:\n",
      "Process ForkPoolWorker-454:\n",
      "Process ForkPoolWorker-455:\n",
      "Process ForkPoolWorker-445:\n",
      "Process ForkPoolWorker-461:\n",
      "Process ForkPoolWorker-459:\n",
      "Process ForkPoolWorker-446:\n",
      "Process ForkPoolWorker-463:\n",
      "Process ForkPoolWorker-450:\n",
      "Process ForkPoolWorker-448:\n",
      "Process ForkPoolWorker-462:\n",
      "Process ForkPoolWorker-449:\n",
      "Process ForkPoolWorker-453:\n",
      "Process ForkPoolWorker-456:\n",
      "Process ForkPoolWorker-451:\n",
      "Process ForkPoolWorker-452:\n",
      "Process ForkPoolWorker-447:\n",
      "Process ForkPoolWorker-460:\n",
      "Traceback (most recent call last):\n",
      "Traceback (most recent call last):\n"
     ]
    }
   ],
   "source": [
    "df[['docs']] = df['path'].parallel_apply(extract_text)\n",
    "df"
   ]
  },
  {
   "cell_type": "code",
   "execution_count": 4,
   "metadata": {
    "ExecuteTime": {
     "end_time": "2021-02-18T01:30:52.736251Z",
     "start_time": "2021-02-18T01:30:52.684036Z"
    }
   },
   "outputs": [
    {
     "data": {
      "text/html": [
       "<div>\n",
       "<style scoped>\n",
       "    .dataframe tbody tr th:only-of-type {\n",
       "        vertical-align: middle;\n",
       "    }\n",
       "\n",
       "    .dataframe tbody tr th {\n",
       "        vertical-align: top;\n",
       "    }\n",
       "\n",
       "    .dataframe thead th {\n",
       "        text-align: right;\n",
       "    }\n",
       "</style>\n",
       "<table border=\"1\" class=\"dataframe\">\n",
       "  <thead>\n",
       "    <tr style=\"text-align: right;\">\n",
       "      <th></th>\n",
       "      <th>filename</th>\n",
       "      <th>docs</th>\n",
       "    </tr>\n",
       "  </thead>\n",
       "  <tbody>\n",
       "    <tr>\n",
       "      <th>0</th>\n",
       "      <td>cna_eng_200307</td>\n",
       "      <td>[ JAPAN URGED TO PERMIT TOURISTS FROM TAIWAN T...</td>\n",
       "    </tr>\n",
       "    <tr>\n",
       "      <th>1</th>\n",
       "      <td>cna_eng_200812</td>\n",
       "      <td>[ Philippine workers offered chance to buy hou...</td>\n",
       "    </tr>\n",
       "    <tr>\n",
       "      <th>2</th>\n",
       "      <td>cna_eng_200701</td>\n",
       "      <td>[ TAIWAN MORE THAN WILLING TO ASSIST IN HK DEM...</td>\n",
       "    </tr>\n",
       "    <tr>\n",
       "      <th>3</th>\n",
       "      <td>cna_eng_200608</td>\n",
       "      <td>[ CEPD TO EARMARK NT$450 MILLION TO HELP YACHT...</td>\n",
       "    </tr>\n",
       "    <tr>\n",
       "      <th>4</th>\n",
       "      <td>cna_eng_201004</td>\n",
       "      <td>[ Philippine representative shares absentee vo...</td>\n",
       "    </tr>\n",
       "    <tr>\n",
       "      <th>...</th>\n",
       "      <td>...</td>\n",
       "      <td>...</td>\n",
       "    </tr>\n",
       "    <tr>\n",
       "      <th>1005</th>\n",
       "      <td>ltw_eng_199504</td>\n",
       "      <td>[  Latin Music Star Selena Shot Dead in Texas ...</td>\n",
       "    </tr>\n",
       "    <tr>\n",
       "      <th>1006</th>\n",
       "      <td>ltw_eng_200510</td>\n",
       "      <td>[ A Tragedy Recalled East of Eden, East of Pas...</td>\n",
       "    </tr>\n",
       "    <tr>\n",
       "      <th>1007</th>\n",
       "      <td>ltw_eng_200410</td>\n",
       "      <td>[ Kerry Cites `Colossal Error' of Bush, Who St...</td>\n",
       "    </tr>\n",
       "    <tr>\n",
       "      <th>1008</th>\n",
       "      <td>ltw_eng_200610</td>\n",
       "      <td>[ They Did Know Jack \\n\\n The following editor...</td>\n",
       "    </tr>\n",
       "    <tr>\n",
       "      <th>1009</th>\n",
       "      <td>ltw_eng_200908</td>\n",
       "      <td>[ Graham's Approach to Judicial Nominations Sh...</td>\n",
       "    </tr>\n",
       "  </tbody>\n",
       "</table>\n",
       "<p>1010 rows × 2 columns</p>\n",
       "</div>"
      ],
      "text/plain": [
       "            filename                                               docs\n",
       "0     cna_eng_200307  [ JAPAN URGED TO PERMIT TOURISTS FROM TAIWAN T...\n",
       "1     cna_eng_200812  [ Philippine workers offered chance to buy hou...\n",
       "2     cna_eng_200701  [ TAIWAN MORE THAN WILLING TO ASSIST IN HK DEM...\n",
       "3     cna_eng_200608  [ CEPD TO EARMARK NT$450 MILLION TO HELP YACHT...\n",
       "4     cna_eng_201004  [ Philippine representative shares absentee vo...\n",
       "...              ...                                                ...\n",
       "1005  ltw_eng_199504  [  Latin Music Star Selena Shot Dead in Texas ...\n",
       "1006  ltw_eng_200510  [ A Tragedy Recalled East of Eden, East of Pas...\n",
       "1007  ltw_eng_200410  [ Kerry Cites `Colossal Error' of Bush, Who St...\n",
       "1008  ltw_eng_200610  [ They Did Know Jack \\n\\n The following editor...\n",
       "1009  ltw_eng_200908  [ Graham's Approach to Judicial Nominations Sh...\n",
       "\n",
       "[1010 rows x 2 columns]"
      ]
     },
     "execution_count": 4,
     "metadata": {},
     "output_type": "execute_result"
    }
   ],
   "source": [
    "df = df.iloc[:,2:]\n",
    "df"
   ]
  },
  {
   "cell_type": "code",
   "execution_count": 5,
   "metadata": {
    "ExecuteTime": {
     "end_time": "2021-02-18T01:30:56.282072Z",
     "start_time": "2021-02-18T01:30:52.739463Z"
    }
   },
   "outputs": [
    {
     "data": {
      "text/html": [
       "<div>\n",
       "<style scoped>\n",
       "    .dataframe tbody tr th:only-of-type {\n",
       "        vertical-align: middle;\n",
       "    }\n",
       "\n",
       "    .dataframe tbody tr th {\n",
       "        vertical-align: top;\n",
       "    }\n",
       "\n",
       "    .dataframe thead th {\n",
       "        text-align: right;\n",
       "    }\n",
       "</style>\n",
       "<table border=\"1\" class=\"dataframe\">\n",
       "  <thead>\n",
       "    <tr style=\"text-align: right;\">\n",
       "      <th></th>\n",
       "      <th>filename</th>\n",
       "      <th>docs</th>\n",
       "    </tr>\n",
       "  </thead>\n",
       "  <tbody>\n",
       "    <tr>\n",
       "      <th>0</th>\n",
       "      <td>cna_eng_200307</td>\n",
       "      <td>JAPAN URGED TO PERMIT TOURISTS FROM TAIWAN TW...</td>\n",
       "    </tr>\n",
       "    <tr>\n",
       "      <th>1</th>\n",
       "      <td>cna_eng_200307</td>\n",
       "      <td>TAIWAN MUST FORGE NATIONAL WILL TO DEFEND ITS...</td>\n",
       "    </tr>\n",
       "    <tr>\n",
       "      <th>2</th>\n",
       "      <td>cna_eng_200307</td>\n",
       "      <td>RELEASE OF CHINA STEEL SHARES MAY ONLY BENEFI...</td>\n",
       "    </tr>\n",
       "    <tr>\n",
       "      <th>3</th>\n",
       "      <td>cna_eng_200307</td>\n",
       "      <td>DPP LAWMAKER TOUTS FOR TAICHUNG FREE TRADE PO...</td>\n",
       "    </tr>\n",
       "    <tr>\n",
       "      <th>4</th>\n",
       "      <td>cna_eng_200307</td>\n",
       "      <td>TAIWAN TO ORGANIZE ASIA-PACIFIC NGO FORUM IN ...</td>\n",
       "    </tr>\n",
       "    <tr>\n",
       "      <th>...</th>\n",
       "      <td>...</td>\n",
       "      <td>...</td>\n",
       "    </tr>\n",
       "    <tr>\n",
       "      <th>8739088</th>\n",
       "      <td>ltw_eng_200908</td>\n",
       "      <td>2 Firefighters Die as Fire Spreads \\n\\n The g...</td>\n",
       "    </tr>\n",
       "    <tr>\n",
       "      <th>8739089</th>\n",
       "      <td>ltw_eng_200908</td>\n",
       "      <td>20090831.0048 \\n\\n Above the fold:     Col 1:...</td>\n",
       "    </tr>\n",
       "    <tr>\n",
       "      <th>8739090</th>\n",
       "      <td>ltw_eng_200908</td>\n",
       "      <td>20090831.0049 \\n\\n National: KIDNAPPED -- ANT...</td>\n",
       "    </tr>\n",
       "    <tr>\n",
       "      <th>8739091</th>\n",
       "      <td>ltw_eng_200908</td>\n",
       "      <td>Daytime's Big Night \\n\\n Held at the Orpheum ...</td>\n",
       "    </tr>\n",
       "    <tr>\n",
       "      <th>8739092</th>\n",
       "      <td>ltw_eng_200908</td>\n",
       "      <td>Japanese Voters Reject Longtime Ruling Party ...</td>\n",
       "    </tr>\n",
       "  </tbody>\n",
       "</table>\n",
       "<p>8739093 rows × 2 columns</p>\n",
       "</div>"
      ],
      "text/plain": [
       "               filename                                               docs\n",
       "0        cna_eng_200307   JAPAN URGED TO PERMIT TOURISTS FROM TAIWAN TW...\n",
       "1        cna_eng_200307   TAIWAN MUST FORGE NATIONAL WILL TO DEFEND ITS...\n",
       "2        cna_eng_200307   RELEASE OF CHINA STEEL SHARES MAY ONLY BENEFI...\n",
       "3        cna_eng_200307   DPP LAWMAKER TOUTS FOR TAICHUNG FREE TRADE PO...\n",
       "4        cna_eng_200307   TAIWAN TO ORGANIZE ASIA-PACIFIC NGO FORUM IN ...\n",
       "...                 ...                                                ...\n",
       "8739088  ltw_eng_200908   2 Firefighters Die as Fire Spreads \\n\\n The g...\n",
       "8739089  ltw_eng_200908   20090831.0048 \\n\\n Above the fold:     Col 1:...\n",
       "8739090  ltw_eng_200908   20090831.0049 \\n\\n National: KIDNAPPED -- ANT...\n",
       "8739091  ltw_eng_200908   Daytime's Big Night \\n\\n Held at the Orpheum ...\n",
       "8739092  ltw_eng_200908   Japanese Voters Reject Longtime Ruling Party ...\n",
       "\n",
       "[8739093 rows x 2 columns]"
      ]
     },
     "execution_count": 5,
     "metadata": {},
     "output_type": "execute_result"
    }
   ],
   "source": [
    "df = df.explode('docs').reset_index(drop=True)\n",
    "df"
   ]
  },
  {
   "cell_type": "markdown",
   "metadata": {},
   "source": [
    " ## Save files into Chunks"
   ]
  },
  {
   "cell_type": "code",
   "execution_count": 2,
   "metadata": {
    "ExecuteTime": {
     "end_time": "2021-02-18T04:41:03.499806Z",
     "start_time": "2021-02-18T04:34:14.042151Z"
    }
   },
   "outputs": [],
   "source": [
    "number_of_chunks= 10\n",
    "\n",
    "# for idx, chunk in enumerate(np.array_split(df, number_of_chunks)):\n",
    "#     chunk.to_csv(f'chuck_{idx}.csv')\n",
    "\n",
    "# df.to_csv('explore.csv',index=False)\n",
    "# df = pd.read_csv('explore.csv',header=[0])\n",
    "\n",
    "for idx, chunk in enumerate(np.array_split(df, number_of_chunks)):\n",
    "    chunk.to_csv('chuck_{idx}.csv')\n",
    "\n",
    "# df.filename = df.filename.astype(str)\n",
    "# df.docs = df.docs.astype(str)\n",
    "\n",
    "# df = pd.read_csv('chuck_0.csv',header=[0])"
   ]
  },
  {
   "cell_type": "markdown",
   "metadata": {},
   "source": [
    "## Simple tokenize and filttering"
   ]
  },
  {
   "cell_type": "code",
   "execution_count": 19,
   "metadata": {
    "ExecuteTime": {
     "end_time": "2021-02-18T06:36:36.644542Z",
     "start_time": "2021-02-18T06:36:36.620635Z"
    },
    "code_folding": []
   },
   "outputs": [
    {
     "data": {
      "text/plain": [
       "'threat\\\\w*|protest\\\\w*|strike\\\\w*|demonstra\\\\w*|violen\\\\w*|militar\\\\w*|coerc\\\\w*|repress\\\\w*|attack\\\\w*|bomb\\\\w*|terroris\\\\w*|assault\\\\w*|kill\\\\w*|tortur\\\\w*|curefew\\\\w*|destroy\\\\w*|explo\\\\w*|fight\\\\w*|artillery\\\\w*|weapon\\\\w*|mutilat\\\\w*|assassin'"
      ]
     },
     "execution_count": 19,
     "metadata": {},
     "output_type": "execute_result"
    }
   ],
   "source": [
    "def doc2tokens(doc):\n",
    "    split_doc = doc.split('\\n\\n')\n",
    "    headline, text = split_doc[0], split_doc[1]\n",
    "    return pd.Series([headline, text])\n",
    "\n",
    "with open('filter_word', 'r') as file:\n",
    "    filter_list = file.read().split('\\n')\n",
    "filter_rule = '\\w*|'.join(filter_list)\n",
    "filter_rule =filter_rule[0:-4]\n",
    "filter_rule"
   ]
  },
  {
   "cell_type": "markdown",
   "metadata": {
    "ExecuteTime": {
     "end_time": "2021-02-18T04:56:20.123875Z",
     "start_time": "2021-02-18T04:56:20.105754Z"
    }
   },
   "source": [
    "# Now preprocess single chuck"
   ]
  },
  {
   "cell_type": "markdown",
   "metadata": {},
   "source": [
    "## Load a chuck"
   ]
  },
  {
   "cell_type": "code",
   "execution_count": 12,
   "metadata": {
    "ExecuteTime": {
     "end_time": "2021-02-18T06:31:48.971646Z",
     "start_time": "2021-02-18T06:31:42.400905Z"
    }
   },
   "outputs": [
    {
     "data": {
      "text/html": [
       "<div>\n",
       "<style scoped>\n",
       "    .dataframe tbody tr th:only-of-type {\n",
       "        vertical-align: middle;\n",
       "    }\n",
       "\n",
       "    .dataframe tbody tr th {\n",
       "        vertical-align: top;\n",
       "    }\n",
       "\n",
       "    .dataframe thead th {\n",
       "        text-align: right;\n",
       "    }\n",
       "</style>\n",
       "<table border=\"1\" class=\"dataframe\">\n",
       "  <thead>\n",
       "    <tr style=\"text-align: right;\">\n",
       "      <th></th>\n",
       "      <th>Unnamed: 0</th>\n",
       "      <th>filename</th>\n",
       "      <th>docs</th>\n",
       "    </tr>\n",
       "  </thead>\n",
       "  <tbody>\n",
       "    <tr>\n",
       "      <th>0</th>\n",
       "      <td>0</td>\n",
       "      <td>cna_eng_200307</td>\n",
       "      <td>JAPAN URGED TO PERMIT TOURISTS FROM TAIWAN TW...</td>\n",
       "    </tr>\n",
       "    <tr>\n",
       "      <th>1</th>\n",
       "      <td>1</td>\n",
       "      <td>cna_eng_200307</td>\n",
       "      <td>TAIWAN MUST FORGE NATIONAL WILL TO DEFEND ITS...</td>\n",
       "    </tr>\n",
       "    <tr>\n",
       "      <th>2</th>\n",
       "      <td>2</td>\n",
       "      <td>cna_eng_200307</td>\n",
       "      <td>RELEASE OF CHINA STEEL SHARES MAY ONLY BENEFI...</td>\n",
       "    </tr>\n",
       "    <tr>\n",
       "      <th>3</th>\n",
       "      <td>3</td>\n",
       "      <td>cna_eng_200307</td>\n",
       "      <td>DPP LAWMAKER TOUTS FOR TAICHUNG FREE TRADE PO...</td>\n",
       "    </tr>\n",
       "    <tr>\n",
       "      <th>4</th>\n",
       "      <td>4</td>\n",
       "      <td>cna_eng_200307</td>\n",
       "      <td>TAIWAN TO ORGANIZE ASIA-PACIFIC NGO FORUM IN ...</td>\n",
       "    </tr>\n",
       "    <tr>\n",
       "      <th>...</th>\n",
       "      <td>...</td>\n",
       "      <td>...</td>\n",
       "      <td>...</td>\n",
       "    </tr>\n",
       "    <tr>\n",
       "      <th>873905</th>\n",
       "      <td>873905</td>\n",
       "      <td>xin_eng_200001</td>\n",
       "      <td>Australian Cyclist Banned for Two Years  \\n\\n...</td>\n",
       "    </tr>\n",
       "    <tr>\n",
       "      <th>873906</th>\n",
       "      <td>873906</td>\n",
       "      <td>xin_eng_200001</td>\n",
       "      <td>Australian Set World Record for Longest Run  ...</td>\n",
       "    </tr>\n",
       "    <tr>\n",
       "      <th>873907</th>\n",
       "      <td>873907</td>\n",
       "      <td>xin_eng_200001</td>\n",
       "      <td>Chinese Defense Minister Back from Four-Natio...</td>\n",
       "    </tr>\n",
       "    <tr>\n",
       "      <th>873908</th>\n",
       "      <td>873908</td>\n",
       "      <td>xin_eng_200001</td>\n",
       "      <td>CPPCC Vice-Chairman Leaves for Davos  \\n\\n Vi...</td>\n",
       "    </tr>\n",
       "    <tr>\n",
       "      <th>873909</th>\n",
       "      <td>873909</td>\n",
       "      <td>xin_eng_200001</td>\n",
       "      <td>Greater Efforts to Boost China's Image Urged ...</td>\n",
       "    </tr>\n",
       "  </tbody>\n",
       "</table>\n",
       "<p>873910 rows × 3 columns</p>\n",
       "</div>"
      ],
      "text/plain": [
       "        Unnamed: 0        filename  \\\n",
       "0                0  cna_eng_200307   \n",
       "1                1  cna_eng_200307   \n",
       "2                2  cna_eng_200307   \n",
       "3                3  cna_eng_200307   \n",
       "4                4  cna_eng_200307   \n",
       "...            ...             ...   \n",
       "873905      873905  xin_eng_200001   \n",
       "873906      873906  xin_eng_200001   \n",
       "873907      873907  xin_eng_200001   \n",
       "873908      873908  xin_eng_200001   \n",
       "873909      873909  xin_eng_200001   \n",
       "\n",
       "                                                     docs  \n",
       "0        JAPAN URGED TO PERMIT TOURISTS FROM TAIWAN TW...  \n",
       "1        TAIWAN MUST FORGE NATIONAL WILL TO DEFEND ITS...  \n",
       "2        RELEASE OF CHINA STEEL SHARES MAY ONLY BENEFI...  \n",
       "3        DPP LAWMAKER TOUTS FOR TAICHUNG FREE TRADE PO...  \n",
       "4        TAIWAN TO ORGANIZE ASIA-PACIFIC NGO FORUM IN ...  \n",
       "...                                                   ...  \n",
       "873905   Australian Cyclist Banned for Two Years  \\n\\n...  \n",
       "873906   Australian Set World Record for Longest Run  ...  \n",
       "873907   Chinese Defense Minister Back from Four-Natio...  \n",
       "873908   CPPCC Vice-Chairman Leaves for Davos  \\n\\n Vi...  \n",
       "873909   Greater Efforts to Boost China's Image Urged ...  \n",
       "\n",
       "[873910 rows x 3 columns]"
      ]
     },
     "execution_count": 12,
     "metadata": {},
     "output_type": "execute_result"
    }
   ],
   "source": [
    "idx = 0\n",
    "df = pd.read_csv(f'chuck_{idx}.csv',header=[0])\n",
    "# df = df.iloc[:,1:]\n",
    "df"
   ]
  },
  {
   "cell_type": "code",
   "execution_count": 10,
   "metadata": {
    "ExecuteTime": {
     "end_time": "2021-02-18T06:30:30.597486Z",
     "start_time": "2021-02-18T06:30:30.240164Z"
    }
   },
   "outputs": [
    {
     "data": {
      "text/plain": [
       "27318"
      ]
     },
     "execution_count": 10,
     "metadata": {},
     "output_type": "execute_result"
    }
   ],
   "source": [
    "df.docs.str.len().max()"
   ]
  },
  {
   "cell_type": "markdown",
   "metadata": {},
   "source": [
    "## extract headlines and texts from docs"
   ]
  },
  {
   "cell_type": "code",
   "execution_count": 20,
   "metadata": {
    "ExecuteTime": {
     "end_time": "2021-02-18T06:36:52.910984Z",
     "start_time": "2021-02-18T06:36:39.627394Z"
    },
    "scrolled": true
   },
   "outputs": [
    {
     "data": {
      "text/html": [
       "<div>\n",
       "<style scoped>\n",
       "    .dataframe tbody tr th:only-of-type {\n",
       "        vertical-align: middle;\n",
       "    }\n",
       "\n",
       "    .dataframe tbody tr th {\n",
       "        vertical-align: top;\n",
       "    }\n",
       "\n",
       "    .dataframe thead th {\n",
       "        text-align: right;\n",
       "    }\n",
       "</style>\n",
       "<table border=\"1\" class=\"dataframe\">\n",
       "  <thead>\n",
       "    <tr style=\"text-align: right;\">\n",
       "      <th></th>\n",
       "      <th>Unnamed: 0</th>\n",
       "      <th>filename</th>\n",
       "      <th>headlines</th>\n",
       "      <th>texts</th>\n",
       "    </tr>\n",
       "  </thead>\n",
       "  <tbody>\n",
       "    <tr>\n",
       "      <th>0</th>\n",
       "      <td>0</td>\n",
       "      <td>cna_eng_200307</td>\n",
       "      <td>JAPAN URGED TO PERMIT TOURISTS FROM TAIWAN TW...</td>\n",
       "      <td>President Chen Shui-bian expressed the hope T...</td>\n",
       "    </tr>\n",
       "    <tr>\n",
       "      <th>1</th>\n",
       "      <td>1</td>\n",
       "      <td>cna_eng_200307</td>\n",
       "      <td>TAIWAN MUST FORGE NATIONAL WILL TO DEFEND ITS...</td>\n",
       "      <td>If mainland China were to attack Taiwan in a ...</td>\n",
       "    </tr>\n",
       "    <tr>\n",
       "      <th>2</th>\n",
       "      <td>2</td>\n",
       "      <td>cna_eng_200307</td>\n",
       "      <td>RELEASE OF CHINA STEEL SHARES MAY ONLY BENEFI...</td>\n",
       "      <td>Lawmakers alleged Thursday that the governmen...</td>\n",
       "    </tr>\n",
       "    <tr>\n",
       "      <th>3</th>\n",
       "      <td>3</td>\n",
       "      <td>cna_eng_200307</td>\n",
       "      <td>DPP LAWMAKER TOUTS FOR TAICHUNG FREE TRADE PO...</td>\n",
       "      <td>A lawmaker of the ruling Democratic Progressi...</td>\n",
       "    </tr>\n",
       "    <tr>\n",
       "      <th>4</th>\n",
       "      <td>4</td>\n",
       "      <td>cna_eng_200307</td>\n",
       "      <td>TAIWAN TO ORGANIZE ASIA-PACIFIC NGO FORUM IN ...</td>\n",
       "      <td>Taiwan will organize the country's first Asia...</td>\n",
       "    </tr>\n",
       "    <tr>\n",
       "      <th>...</th>\n",
       "      <td>...</td>\n",
       "      <td>...</td>\n",
       "      <td>...</td>\n",
       "      <td>...</td>\n",
       "    </tr>\n",
       "    <tr>\n",
       "      <th>873905</th>\n",
       "      <td>873905</td>\n",
       "      <td>xin_eng_200001</td>\n",
       "      <td>Australian Cyclist Banned for Two Years</td>\n",
       "      <td>Australian Tim Lyons, gold medalist of the Co...</td>\n",
       "    </tr>\n",
       "    <tr>\n",
       "      <th>873906</th>\n",
       "      <td>873906</td>\n",
       "      <td>xin_eng_200001</td>\n",
       "      <td>Australian Set World Record for Longest Run</td>\n",
       "      <td>An Australian builder broke a world record fo...</td>\n",
       "    </tr>\n",
       "    <tr>\n",
       "      <th>873907</th>\n",
       "      <td>873907</td>\n",
       "      <td>xin_eng_200001</td>\n",
       "      <td>Chinese Defense Minister Back from Four-Natio...</td>\n",
       "      <td>Chinese Defense Minister Chi Haotian and his ...</td>\n",
       "    </tr>\n",
       "    <tr>\n",
       "      <th>873908</th>\n",
       "      <td>873908</td>\n",
       "      <td>xin_eng_200001</td>\n",
       "      <td>CPPCC Vice-Chairman Leaves for Davos</td>\n",
       "      <td>Vice-Chairman of the Chinese People's Politic...</td>\n",
       "    </tr>\n",
       "    <tr>\n",
       "      <th>873909</th>\n",
       "      <td>873909</td>\n",
       "      <td>xin_eng_200001</td>\n",
       "      <td>Greater Efforts to Boost China's Image Urged</td>\n",
       "      <td>Zhao Qizheng, director of the State Council I...</td>\n",
       "    </tr>\n",
       "  </tbody>\n",
       "</table>\n",
       "<p>873910 rows × 4 columns</p>\n",
       "</div>"
      ],
      "text/plain": [
       "        Unnamed: 0        filename  \\\n",
       "0                0  cna_eng_200307   \n",
       "1                1  cna_eng_200307   \n",
       "2                2  cna_eng_200307   \n",
       "3                3  cna_eng_200307   \n",
       "4                4  cna_eng_200307   \n",
       "...            ...             ...   \n",
       "873905      873905  xin_eng_200001   \n",
       "873906      873906  xin_eng_200001   \n",
       "873907      873907  xin_eng_200001   \n",
       "873908      873908  xin_eng_200001   \n",
       "873909      873909  xin_eng_200001   \n",
       "\n",
       "                                                headlines  \\\n",
       "0        JAPAN URGED TO PERMIT TOURISTS FROM TAIWAN TW...   \n",
       "1        TAIWAN MUST FORGE NATIONAL WILL TO DEFEND ITS...   \n",
       "2        RELEASE OF CHINA STEEL SHARES MAY ONLY BENEFI...   \n",
       "3        DPP LAWMAKER TOUTS FOR TAICHUNG FREE TRADE PO...   \n",
       "4        TAIWAN TO ORGANIZE ASIA-PACIFIC NGO FORUM IN ...   \n",
       "...                                                   ...   \n",
       "873905          Australian Cyclist Banned for Two Years     \n",
       "873906      Australian Set World Record for Longest Run     \n",
       "873907   Chinese Defense Minister Back from Four-Natio...   \n",
       "873908             CPPCC Vice-Chairman Leaves for Davos     \n",
       "873909     Greater Efforts to Boost China's Image Urged     \n",
       "\n",
       "                                                    texts  \n",
       "0        President Chen Shui-bian expressed the hope T...  \n",
       "1        If mainland China were to attack Taiwan in a ...  \n",
       "2        Lawmakers alleged Thursday that the governmen...  \n",
       "3        A lawmaker of the ruling Democratic Progressi...  \n",
       "4        Taiwan will organize the country's first Asia...  \n",
       "...                                                   ...  \n",
       "873905   Australian Tim Lyons, gold medalist of the Co...  \n",
       "873906   An Australian builder broke a world record fo...  \n",
       "873907   Chinese Defense Minister Chi Haotian and his ...  \n",
       "873908   Vice-Chairman of the Chinese People's Politic...  \n",
       "873909   Zhao Qizheng, director of the State Council I...  \n",
       "\n",
       "[873910 rows x 4 columns]"
      ]
     },
     "execution_count": 20,
     "metadata": {},
     "output_type": "execute_result"
    }
   ],
   "source": [
    "df[['headlines','texts']]= df['docs'].parallel_apply(doc2tokens)\n",
    "df = df.drop(columns=['docs'])\n",
    "df"
   ]
  },
  {
   "cell_type": "code",
   "execution_count": 21,
   "metadata": {
    "ExecuteTime": {
     "end_time": "2021-02-18T06:37:02.304721Z",
     "start_time": "2021-02-18T06:36:52.912665Z"
    }
   },
   "outputs": [
    {
     "data": {
      "text/html": [
       "<div>\n",
       "<style scoped>\n",
       "    .dataframe tbody tr th:only-of-type {\n",
       "        vertical-align: middle;\n",
       "    }\n",
       "\n",
       "    .dataframe tbody tr th {\n",
       "        vertical-align: top;\n",
       "    }\n",
       "\n",
       "    .dataframe thead th {\n",
       "        text-align: right;\n",
       "    }\n",
       "</style>\n",
       "<table border=\"1\" class=\"dataframe\">\n",
       "  <thead>\n",
       "    <tr style=\"text-align: right;\">\n",
       "      <th></th>\n",
       "      <th>Unnamed: 0</th>\n",
       "      <th>filename</th>\n",
       "      <th>headlines</th>\n",
       "      <th>texts</th>\n",
       "      <th>match</th>\n",
       "    </tr>\n",
       "  </thead>\n",
       "  <tbody>\n",
       "    <tr>\n",
       "      <th>0</th>\n",
       "      <td>0</td>\n",
       "      <td>cna_eng_200307</td>\n",
       "      <td>JAPAN URGED TO PERMIT TOURISTS FROM TAIWAN TW...</td>\n",
       "      <td>President Chen Shui-bian expressed the hope T...</td>\n",
       "      <td>[]</td>\n",
       "    </tr>\n",
       "    <tr>\n",
       "      <th>1</th>\n",
       "      <td>1</td>\n",
       "      <td>cna_eng_200307</td>\n",
       "      <td>TAIWAN MUST FORGE NATIONAL WILL TO DEFEND ITS...</td>\n",
       "      <td>If mainland China were to attack Taiwan in a ...</td>\n",
       "      <td>[attack, strike, military, attacks, military, ...</td>\n",
       "    </tr>\n",
       "    <tr>\n",
       "      <th>2</th>\n",
       "      <td>2</td>\n",
       "      <td>cna_eng_200307</td>\n",
       "      <td>RELEASE OF CHINA STEEL SHARES MAY ONLY BENEFI...</td>\n",
       "      <td>Lawmakers alleged Thursday that the governmen...</td>\n",
       "      <td>[]</td>\n",
       "    </tr>\n",
       "    <tr>\n",
       "      <th>3</th>\n",
       "      <td>3</td>\n",
       "      <td>cna_eng_200307</td>\n",
       "      <td>DPP LAWMAKER TOUTS FOR TAICHUNG FREE TRADE PO...</td>\n",
       "      <td>A lawmaker of the ruling Democratic Progressi...</td>\n",
       "      <td>[]</td>\n",
       "    </tr>\n",
       "    <tr>\n",
       "      <th>4</th>\n",
       "      <td>4</td>\n",
       "      <td>cna_eng_200307</td>\n",
       "      <td>TAIWAN TO ORGANIZE ASIA-PACIFIC NGO FORUM IN ...</td>\n",
       "      <td>Taiwan will organize the country's first Asia...</td>\n",
       "      <td>[]</td>\n",
       "    </tr>\n",
       "    <tr>\n",
       "      <th>...</th>\n",
       "      <td>...</td>\n",
       "      <td>...</td>\n",
       "      <td>...</td>\n",
       "      <td>...</td>\n",
       "      <td>...</td>\n",
       "    </tr>\n",
       "    <tr>\n",
       "      <th>873905</th>\n",
       "      <td>873905</td>\n",
       "      <td>xin_eng_200001</td>\n",
       "      <td>Australian Cyclist Banned for Two Years</td>\n",
       "      <td>Australian Tim Lyons, gold medalist of the Co...</td>\n",
       "      <td>[]</td>\n",
       "    </tr>\n",
       "    <tr>\n",
       "      <th>873906</th>\n",
       "      <td>873906</td>\n",
       "      <td>xin_eng_200001</td>\n",
       "      <td>Australian Set World Record for Longest Run</td>\n",
       "      <td>An Australian builder broke a world record fo...</td>\n",
       "      <td>[]</td>\n",
       "    </tr>\n",
       "    <tr>\n",
       "      <th>873907</th>\n",
       "      <td>873907</td>\n",
       "      <td>xin_eng_200001</td>\n",
       "      <td>Chinese Defense Minister Back from Four-Natio...</td>\n",
       "      <td>Chinese Defense Minister Chi Haotian and his ...</td>\n",
       "      <td>[]</td>\n",
       "    </tr>\n",
       "    <tr>\n",
       "      <th>873908</th>\n",
       "      <td>873908</td>\n",
       "      <td>xin_eng_200001</td>\n",
       "      <td>CPPCC Vice-Chairman Leaves for Davos</td>\n",
       "      <td>Vice-Chairman of the Chinese People's Politic...</td>\n",
       "      <td>[]</td>\n",
       "    </tr>\n",
       "    <tr>\n",
       "      <th>873909</th>\n",
       "      <td>873909</td>\n",
       "      <td>xin_eng_200001</td>\n",
       "      <td>Greater Efforts to Boost China's Image Urged</td>\n",
       "      <td>Zhao Qizheng, director of the State Council I...</td>\n",
       "      <td>[]</td>\n",
       "    </tr>\n",
       "  </tbody>\n",
       "</table>\n",
       "<p>873910 rows × 5 columns</p>\n",
       "</div>"
      ],
      "text/plain": [
       "        Unnamed: 0        filename  \\\n",
       "0                0  cna_eng_200307   \n",
       "1                1  cna_eng_200307   \n",
       "2                2  cna_eng_200307   \n",
       "3                3  cna_eng_200307   \n",
       "4                4  cna_eng_200307   \n",
       "...            ...             ...   \n",
       "873905      873905  xin_eng_200001   \n",
       "873906      873906  xin_eng_200001   \n",
       "873907      873907  xin_eng_200001   \n",
       "873908      873908  xin_eng_200001   \n",
       "873909      873909  xin_eng_200001   \n",
       "\n",
       "                                                headlines  \\\n",
       "0        JAPAN URGED TO PERMIT TOURISTS FROM TAIWAN TW...   \n",
       "1        TAIWAN MUST FORGE NATIONAL WILL TO DEFEND ITS...   \n",
       "2        RELEASE OF CHINA STEEL SHARES MAY ONLY BENEFI...   \n",
       "3        DPP LAWMAKER TOUTS FOR TAICHUNG FREE TRADE PO...   \n",
       "4        TAIWAN TO ORGANIZE ASIA-PACIFIC NGO FORUM IN ...   \n",
       "...                                                   ...   \n",
       "873905          Australian Cyclist Banned for Two Years     \n",
       "873906      Australian Set World Record for Longest Run     \n",
       "873907   Chinese Defense Minister Back from Four-Natio...   \n",
       "873908             CPPCC Vice-Chairman Leaves for Davos     \n",
       "873909     Greater Efforts to Boost China's Image Urged     \n",
       "\n",
       "                                                    texts  \\\n",
       "0        President Chen Shui-bian expressed the hope T...   \n",
       "1        If mainland China were to attack Taiwan in a ...   \n",
       "2        Lawmakers alleged Thursday that the governmen...   \n",
       "3        A lawmaker of the ruling Democratic Progressi...   \n",
       "4        Taiwan will organize the country's first Asia...   \n",
       "...                                                   ...   \n",
       "873905   Australian Tim Lyons, gold medalist of the Co...   \n",
       "873906   An Australian builder broke a world record fo...   \n",
       "873907   Chinese Defense Minister Chi Haotian and his ...   \n",
       "873908   Vice-Chairman of the Chinese People's Politic...   \n",
       "873909   Zhao Qizheng, director of the State Council I...   \n",
       "\n",
       "                                                    match  \n",
       "0                                                      []  \n",
       "1       [attack, strike, military, attacks, military, ...  \n",
       "2                                                      []  \n",
       "3                                                      []  \n",
       "4                                                      []  \n",
       "...                                                   ...  \n",
       "873905                                                 []  \n",
       "873906                                                 []  \n",
       "873907                                                 []  \n",
       "873908                                                 []  \n",
       "873909                                                 []  \n",
       "\n",
       "[873910 rows x 5 columns]"
      ]
     },
     "execution_count": 21,
     "metadata": {},
     "output_type": "execute_result"
    }
   ],
   "source": [
    "df[['match']] = df['texts'].parallel_apply(lambda x: re.findall(filter_rule,x))\n",
    "df"
   ]
  },
  {
   "cell_type": "code",
   "execution_count": 22,
   "metadata": {
    "ExecuteTime": {
     "end_time": "2021-02-18T06:37:02.963214Z",
     "start_time": "2021-02-18T06:37:02.307768Z"
    }
   },
   "outputs": [
    {
     "data": {
      "text/html": [
       "<div>\n",
       "<style scoped>\n",
       "    .dataframe tbody tr th:only-of-type {\n",
       "        vertical-align: middle;\n",
       "    }\n",
       "\n",
       "    .dataframe tbody tr th {\n",
       "        vertical-align: top;\n",
       "    }\n",
       "\n",
       "    .dataframe thead th {\n",
       "        text-align: right;\n",
       "    }\n",
       "</style>\n",
       "<table border=\"1\" class=\"dataframe\">\n",
       "  <thead>\n",
       "    <tr style=\"text-align: right;\">\n",
       "      <th></th>\n",
       "      <th>Unnamed: 0</th>\n",
       "      <th>filename</th>\n",
       "      <th>headlines</th>\n",
       "      <th>texts</th>\n",
       "      <th>match</th>\n",
       "    </tr>\n",
       "  </thead>\n",
       "  <tbody>\n",
       "    <tr>\n",
       "      <th>1</th>\n",
       "      <td>1</td>\n",
       "      <td>cna_eng_200307</td>\n",
       "      <td>TAIWAN MUST FORGE NATIONAL WILL TO DEFEND ITS...</td>\n",
       "      <td>If mainland China were to attack Taiwan in a ...</td>\n",
       "      <td>[attack, strike, military, attacks, military, ...</td>\n",
       "    </tr>\n",
       "    <tr>\n",
       "      <th>7</th>\n",
       "      <td>7</td>\n",
       "      <td>cna_eng_200307</td>\n",
       "      <td>SOUTHERN TAIWAN FREE FROM THREAT OF WATER SHO...</td>\n",
       "      <td>Although there is an increased threat of a po...</td>\n",
       "      <td>[threat]</td>\n",
       "    </tr>\n",
       "    <tr>\n",
       "      <th>18</th>\n",
       "      <td>18</td>\n",
       "      <td>cna_eng_200812</td>\n",
       "      <td>Taichung landfill slide leaves 1 dead, 1 miss...</td>\n",
       "      <td>A series of landslides at a landfill retainin...</td>\n",
       "      <td>[fighter, fighters, fighter, fighter, fighting]</td>\n",
       "    </tr>\n",
       "    <tr>\n",
       "      <th>19</th>\n",
       "      <td>19</td>\n",
       "      <td>cna_eng_200812</td>\n",
       "      <td>Interior minister visits family of dead volun...</td>\n",
       "      <td>Minister of the Interior Liao Liou-yi on Sund...</td>\n",
       "      <td>[fighter, killed, fighting, fighter, fighters,...</td>\n",
       "    </tr>\n",
       "    <tr>\n",
       "      <th>22</th>\n",
       "      <td>22</td>\n",
       "      <td>cna_eng_200812</td>\n",
       "      <td>Body of buried worker at Taichung landfill re...</td>\n",
       "      <td>The body of a worker who was buried in dirt f...</td>\n",
       "      <td>[fighter]</td>\n",
       "    </tr>\n",
       "    <tr>\n",
       "      <th>...</th>\n",
       "      <td>...</td>\n",
       "      <td>...</td>\n",
       "      <td>...</td>\n",
       "      <td>...</td>\n",
       "      <td>...</td>\n",
       "    </tr>\n",
       "    <tr>\n",
       "      <th>873882</th>\n",
       "      <td>873882</td>\n",
       "      <td>xin_eng_200001</td>\n",
       "      <td>Nigerian Army Retires 8 Generals, 341 Officers</td>\n",
       "      <td>The Nigerian Army Council has approved the re...</td>\n",
       "      <td>[military, military]</td>\n",
       "    </tr>\n",
       "    <tr>\n",
       "      <th>873887</th>\n",
       "      <td>873887</td>\n",
       "      <td>xin_eng_200001</td>\n",
       "      <td>China Ordnance Company Reports Surging Sales</td>\n",
       "      <td>The China South Industrial Group Corp. (China...</td>\n",
       "      <td>[military]</td>\n",
       "    </tr>\n",
       "    <tr>\n",
       "      <th>873891</th>\n",
       "      <td>873891</td>\n",
       "      <td>xin_eng_200001</td>\n",
       "      <td>Hundreds of Turkish Hezbollah Militants Detai...</td>\n",
       "      <td>The Turkish police have arrested 283 Hezbolla...</td>\n",
       "      <td>[killed, terrorist, attacks, killed]</td>\n",
       "    </tr>\n",
       "    <tr>\n",
       "      <th>873892</th>\n",
       "      <td>873892</td>\n",
       "      <td>xin_eng_200001</td>\n",
       "      <td>Jordan Collects 3 Million Pencils for Iraqi C...</td>\n",
       "      <td>A pro-Iraqi committee in Jordan has collected...</td>\n",
       "      <td>[military]</td>\n",
       "    </tr>\n",
       "    <tr>\n",
       "      <th>873903</th>\n",
       "      <td>873903</td>\n",
       "      <td>xin_eng_200001</td>\n",
       "      <td>Kenya Reviews Health Act to Fight AIDS</td>\n",
       "      <td>The Kenyan government is reviewing its public...</td>\n",
       "      <td>[fight, killing]</td>\n",
       "    </tr>\n",
       "  </tbody>\n",
       "</table>\n",
       "<p>296783 rows × 5 columns</p>\n",
       "</div>"
      ],
      "text/plain": [
       "        Unnamed: 0        filename  \\\n",
       "1                1  cna_eng_200307   \n",
       "7                7  cna_eng_200307   \n",
       "18              18  cna_eng_200812   \n",
       "19              19  cna_eng_200812   \n",
       "22              22  cna_eng_200812   \n",
       "...            ...             ...   \n",
       "873882      873882  xin_eng_200001   \n",
       "873887      873887  xin_eng_200001   \n",
       "873891      873891  xin_eng_200001   \n",
       "873892      873892  xin_eng_200001   \n",
       "873903      873903  xin_eng_200001   \n",
       "\n",
       "                                                headlines  \\\n",
       "1        TAIWAN MUST FORGE NATIONAL WILL TO DEFEND ITS...   \n",
       "7        SOUTHERN TAIWAN FREE FROM THREAT OF WATER SHO...   \n",
       "18       Taichung landfill slide leaves 1 dead, 1 miss...   \n",
       "19       Interior minister visits family of dead volun...   \n",
       "22       Body of buried worker at Taichung landfill re...   \n",
       "...                                                   ...   \n",
       "873882   Nigerian Army Retires 8 Generals, 341 Officers     \n",
       "873887     China Ordnance Company Reports Surging Sales     \n",
       "873891   Hundreds of Turkish Hezbollah Militants Detai...   \n",
       "873892   Jordan Collects 3 Million Pencils for Iraqi C...   \n",
       "873903           Kenya Reviews Health Act to Fight AIDS     \n",
       "\n",
       "                                                    texts  \\\n",
       "1        If mainland China were to attack Taiwan in a ...   \n",
       "7        Although there is an increased threat of a po...   \n",
       "18       A series of landslides at a landfill retainin...   \n",
       "19       Minister of the Interior Liao Liou-yi on Sund...   \n",
       "22       The body of a worker who was buried in dirt f...   \n",
       "...                                                   ...   \n",
       "873882   The Nigerian Army Council has approved the re...   \n",
       "873887   The China South Industrial Group Corp. (China...   \n",
       "873891   The Turkish police have arrested 283 Hezbolla...   \n",
       "873892   A pro-Iraqi committee in Jordan has collected...   \n",
       "873903   The Kenyan government is reviewing its public...   \n",
       "\n",
       "                                                    match  \n",
       "1       [attack, strike, military, attacks, military, ...  \n",
       "7                                                [threat]  \n",
       "18        [fighter, fighters, fighter, fighter, fighting]  \n",
       "19      [fighter, killed, fighting, fighter, fighters,...  \n",
       "22                                              [fighter]  \n",
       "...                                                   ...  \n",
       "873882                               [military, military]  \n",
       "873887                                         [military]  \n",
       "873891               [killed, terrorist, attacks, killed]  \n",
       "873892                                         [military]  \n",
       "873903                                   [fight, killing]  \n",
       "\n",
       "[296783 rows x 5 columns]"
      ]
     },
     "execution_count": 22,
     "metadata": {},
     "output_type": "execute_result"
    }
   ],
   "source": [
    "Num_Match =1\n",
    "\n",
    "df = df[df.match.str.len() >= Num_Match]\n",
    "df"
   ]
  },
  {
   "cell_type": "code",
   "execution_count": 26,
   "metadata": {
    "ExecuteTime": {
     "end_time": "2021-02-18T06:40:05.833191Z",
     "start_time": "2021-02-18T06:40:05.699091Z"
    }
   },
   "outputs": [
    {
     "data": {
      "text/html": [
       "<div>\n",
       "<style scoped>\n",
       "    .dataframe tbody tr th:only-of-type {\n",
       "        vertical-align: middle;\n",
       "    }\n",
       "\n",
       "    .dataframe tbody tr th {\n",
       "        vertical-align: top;\n",
       "    }\n",
       "\n",
       "    .dataframe thead th {\n",
       "        text-align: right;\n",
       "    }\n",
       "</style>\n",
       "<table border=\"1\" class=\"dataframe\">\n",
       "  <thead>\n",
       "    <tr style=\"text-align: right;\">\n",
       "      <th></th>\n",
       "      <th>Unnamed: 0</th>\n",
       "      <th>filename</th>\n",
       "      <th>headlines</th>\n",
       "      <th>texts</th>\n",
       "      <th>match</th>\n",
       "    </tr>\n",
       "  </thead>\n",
       "  <tbody>\n",
       "    <tr>\n",
       "      <th>44586</th>\n",
       "      <td>44586</td>\n",
       "      <td>cna_eng_199712</td>\n",
       "      <td>None</td>\n",
       "      <td>Taipei Mayor Chen Shui-bian on Saturday denie...</td>\n",
       "      <td>[kills]</td>\n",
       "    </tr>\n",
       "    <tr>\n",
       "      <th>210314</th>\n",
       "      <td>210314</td>\n",
       "      <td>xin_eng_199612</td>\n",
       "      <td>&amp;AMP0</td>\n",
       "      <td>Angered by sharp fall in stock prices in the ...</td>\n",
       "      <td>[threatened]</td>\n",
       "    </tr>\n",
       "    <tr>\n",
       "      <th>365555</th>\n",
       "      <td>365555</td>\n",
       "      <td>xin_eng_199712</td>\n",
       "      <td>Paper</td>\n",
       "      <td>Philippine banks posted growth in the third q...</td>\n",
       "      <td>[threatened]</td>\n",
       "    </tr>\n",
       "    <tr>\n",
       "      <th>530711</th>\n",
       "      <td>530711</td>\n",
       "      <td>xin_eng_199903</td>\n",
       "      <td>Blair</td>\n",
       "      <td>British Prime Minister Tony Blair said Saturd...</td>\n",
       "      <td>[strikes, strikes, attacked, attacks, strikes,...</td>\n",
       "    </tr>\n",
       "    <tr>\n",
       "      <th>655449</th>\n",
       "      <td>655449</td>\n",
       "      <td>xin_eng_199709</td>\n",
       "      <td></td>\n",
       "      <td>French President Jacques Chirac today condemn...</td>\n",
       "      <td>[bombing, attack, terrorism, terrorism, violen...</td>\n",
       "    </tr>\n",
       "    <tr>\n",
       "      <th>709775</th>\n",
       "      <td>709775</td>\n",
       "      <td>xin_eng_200507</td>\n",
       "      <td>null</td>\n",
       "      <td>France's food group Danone said on  Thursday ...</td>\n",
       "      <td>[fight, fight]</td>\n",
       "    </tr>\n",
       "    <tr>\n",
       "      <th>866426</th>\n",
       "      <td>866426</td>\n",
       "      <td>xin_eng_199507</td>\n",
       "      <td>Perry</td>\n",
       "      <td>US Defense Secretary William Perry said Satur...</td>\n",
       "      <td>[military, bombing, military, bombing]</td>\n",
       "    </tr>\n",
       "  </tbody>\n",
       "</table>\n",
       "</div>"
      ],
      "text/plain": [
       "        Unnamed: 0        filename headlines  \\\n",
       "44586        44586  cna_eng_199712      None   \n",
       "210314      210314  xin_eng_199612   &AMP0     \n",
       "365555      365555  xin_eng_199712   Paper     \n",
       "530711      530711  xin_eng_199903   Blair     \n",
       "655449      655449  xin_eng_199709             \n",
       "709775      709775  xin_eng_200507     null    \n",
       "866426      866426  xin_eng_199507   Perry     \n",
       "\n",
       "                                                    texts  \\\n",
       "44586    Taipei Mayor Chen Shui-bian on Saturday denie...   \n",
       "210314   Angered by sharp fall in stock prices in the ...   \n",
       "365555   Philippine banks posted growth in the third q...   \n",
       "530711   British Prime Minister Tony Blair said Saturd...   \n",
       "655449   French President Jacques Chirac today condemn...   \n",
       "709775   France's food group Danone said on  Thursday ...   \n",
       "866426   US Defense Secretary William Perry said Satur...   \n",
       "\n",
       "                                                    match  \n",
       "44586                                             [kills]  \n",
       "210314                                       [threatened]  \n",
       "365555                                       [threatened]  \n",
       "530711  [strikes, strikes, attacked, attacks, strikes,...  \n",
       "655449  [bombing, attack, terrorism, terrorism, violen...  \n",
       "709775                                     [fight, fight]  \n",
       "866426             [military, bombing, military, bombing]  "
      ]
     },
     "execution_count": 26,
     "metadata": {},
     "output_type": "execute_result"
    }
   ],
   "source": [
    "df[df.headlines.str.len()<10]"
   ]
  },
  {
   "cell_type": "code",
   "execution_count": 25,
   "metadata": {
    "ExecuteTime": {
     "end_time": "2021-02-18T06:38:56.514654Z",
     "start_time": "2021-02-18T06:38:56.363331Z"
    }
   },
   "outputs": [
    {
     "data": {
      "text/html": [
       "<div>\n",
       "<style scoped>\n",
       "    .dataframe tbody tr th:only-of-type {\n",
       "        vertical-align: middle;\n",
       "    }\n",
       "\n",
       "    .dataframe tbody tr th {\n",
       "        vertical-align: top;\n",
       "    }\n",
       "\n",
       "    .dataframe thead th {\n",
       "        text-align: right;\n",
       "    }\n",
       "</style>\n",
       "<table border=\"1\" class=\"dataframe\">\n",
       "  <thead>\n",
       "    <tr style=\"text-align: right;\">\n",
       "      <th></th>\n",
       "      <th>Unnamed: 0</th>\n",
       "      <th>filename</th>\n",
       "      <th>headlines</th>\n",
       "      <th>texts</th>\n",
       "      <th>match</th>\n",
       "    </tr>\n",
       "  </thead>\n",
       "  <tbody>\n",
       "    <tr>\n",
       "      <th>839014</th>\n",
       "      <td>839014</td>\n",
       "      <td>xin_eng_201008</td>\n",
       "      <td>Urgent:  One Jordanian killed in Aqaba missil...</td>\n",
       "      <td>One Jordanian killed in Aqaba missile strike.</td>\n",
       "      <td>[killed, strike]</td>\n",
       "    </tr>\n",
       "  </tbody>\n",
       "</table>\n",
       "</div>"
      ],
      "text/plain": [
       "        Unnamed: 0        filename  \\\n",
       "839014      839014  xin_eng_201008   \n",
       "\n",
       "                                                headlines  \\\n",
       "839014   Urgent:  One Jordanian killed in Aqaba missil...   \n",
       "\n",
       "                                                  texts             match  \n",
       "839014   One Jordanian killed in Aqaba missile strike.   [killed, strike]  "
      ]
     },
     "execution_count": 25,
     "metadata": {},
     "output_type": "execute_result"
    }
   ],
   "source": [
    "df[df.texts.str.len()<50]"
   ]
  },
  {
   "cell_type": "code",
   "execution_count": 17,
   "metadata": {
    "ExecuteTime": {
     "end_time": "2021-02-18T05:00:51.169703Z",
     "start_time": "2021-02-18T05:00:50.487571Z"
    }
   },
   "outputs": [
    {
     "data": {
      "text/plain": [
       "<AxesSubplot:>"
      ]
     },
     "execution_count": 17,
     "metadata": {},
     "output_type": "execute_result"
    },
    {
     "data": {
      "image/png": "[encoded data removed]",
      "text/plain": [
       "<Figure size 864x576 with 1 Axes>"
      ]
     },
     "metadata": {
      "needs_background": "light"
     },
     "output_type": "display_data"
    }
   ],
   "source": [
    "df.match.str.len().value_counts().plot.bar(figsize=(12,8), rot=0)"
   ]
  },
  {
   "cell_type": "code",
   "execution_count": 18,
   "metadata": {
    "ExecuteTime": {
     "end_time": "2021-02-18T05:01:21.833001Z",
     "start_time": "2021-02-18T05:01:14.959517Z"
    }
   },
   "outputs": [],
   "source": [
    "df.to_csv(f'match_{idx}.csv')"
   ]
  },
  {
   "cell_type": "markdown",
   "metadata": {},
   "source": [
    "# Pipeline  of multiple chucks"
   ]
  },
  {
   "cell_type": "code",
   "execution_count": 20,
   "metadata": {
    "ExecuteTime": {
     "end_time": "2021-02-18T05:16:35.310971Z",
     "start_time": "2021-02-18T05:04:41.266856Z"
    }
   },
   "outputs": [
    {
     "name": "stdout",
     "output_type": "stream",
     "text": [
      "0\n",
      "1\n",
      "2\n",
      "3\n",
      "4\n",
      "5\n",
      "6\n",
      "7\n",
      "8\n",
      "9\n"
     ]
    }
   ],
   "source": [
    "Num_Match =1\n",
    "\n",
    "for idx in range(10):\n",
    "    print(idx)\n",
    "    \n",
    "    df = pd.read_csv(f'chuck_{idx}.csv',header=[0])\n",
    "    df = df.iloc[:,1:]\n",
    "    \n",
    "    df[['headlines','texts']]= df['docs'].parallel_apply(doc2tokens)\n",
    "    df = df.drop(columns=['docs'])\n",
    "\n",
    "    df[['match']] = df['texts'].parallel_apply(lambda x: re.findall(filter_rule,x))\n",
    "    df = df[df.match.str.len() >= Num_Match]\n",
    "    \n",
    "    df.to_csv(f'match_{idx}.csv')"
   ]
  },
  {
   "cell_type": "markdown",
   "metadata": {},
   "source": [
    "# Summary of match files"
   ]
  },
  {
   "cell_type": "code",
   "execution_count": 8,
   "metadata": {
    "ExecuteTime": {
     "end_time": "2021-02-18T06:07:23.022934Z",
     "start_time": "2021-02-18T05:56:08.978464Z"
    }
   },
   "outputs": [],
   "source": [
    "match = []\n",
    "for idx in range(10):\n",
    "    df= pd.read_csv(f'match_{idx}.csv',header=[0])\n",
    "    df = df.texts.parallel_apply(lambda x: x.split())\n",
    "    match.append(df.str.len().values) "
   ]
  },
  {
   "cell_type": "code",
   "execution_count": 32,
   "metadata": {
    "ExecuteTime": {
     "end_time": "2021-02-18T06:21:18.627144Z",
     "start_time": "2021-02-18T06:21:18.373786Z"
    }
   },
   "outputs": [
    {
     "data": {
      "text/plain": [
       "340502    [Deganya, B,, less, than, half, a, mile, from,...\n",
       "Name: texts, dtype: object"
      ]
     },
     "execution_count": 32,
     "metadata": {},
     "output_type": "execute_result"
    }
   ],
   "source": [
    "df[df.str.len()==146456]"
   ]
  },
  {
   "cell_type": "code",
   "execution_count": 12,
   "metadata": {
    "ExecuteTime": {
     "end_time": "2021-02-18T06:12:14.469116Z",
     "start_time": "2021-02-18T06:12:14.456863Z"
    }
   },
   "outputs": [],
   "source": [
    "match = np.concatenate(match)"
   ]
  },
  {
   "cell_type": "code",
   "execution_count": 23,
   "metadata": {
    "ExecuteTime": {
     "end_time": "2021-02-18T06:17:33.084023Z",
     "start_time": "2021-02-18T06:17:33.057111Z"
    }
   },
   "outputs": [
    {
     "data": {
      "text/plain": [
       "(507.02050812586987, 146456)"
      ]
     },
     "execution_count": 23,
     "metadata": {},
     "output_type": "execute_result"
    }
   ],
   "source": [
    "match.mean(), match.max()"
   ]
  },
  {
   "cell_type": "code",
   "execution_count": 33,
   "metadata": {
    "ExecuteTime": {
     "end_time": "2021-02-18T06:22:13.596274Z",
     "start_time": "2021-02-18T06:22:13.589120Z"
    }
   },
   "outputs": [
    {
     "data": {
      "text/plain": [
       "array([ 8536,  8536,  8536,  8536,  8536,  8536,  8536,  8536,  8550,\n",
       "        8594,  8616,  8696,  8721,  8721,  8748,  8775,  8848,  9129,\n",
       "        9289,  9299,  9514,  9537,  9564,  9648,  9648,  9648,  9648,\n",
       "        9648,  9648,  9710,  9854, 10058, 10189, 10381, 10508, 10537,\n",
       "       10537, 10658, 10693, 10735, 10987, 11205, 12273, 12317, 13219,\n",
       "       14680, 14756, 14783, 26575])"
      ]
     },
     "execution_count": 33,
     "metadata": {},
     "output_type": "execute_result"
    }
   ],
   "source": [
    "match[-50:-1]"
   ]
  },
  {
   "cell_type": "code",
   "execution_count": 20,
   "metadata": {
    "ExecuteTime": {
     "end_time": "2021-02-18T06:16:41.907786Z",
     "start_time": "2021-02-18T06:16:40.887403Z"
    }
   },
   "outputs": [
    {
     "data": {
      "image/png": "[encoded data removed]",
      "text/plain": [
       "<Figure size 432x288 with 1 Axes>"
      ]
     },
     "metadata": {
      "needs_background": "light"
     },
     "output_type": "display_data"
    }
   ],
   "source": [
    "import matplotlib.pyplot as plt\n",
    "import numpy as np\n",
    "\n",
    "plt.hist(match, bins=1000)\n",
    "\n",
    "# plt.hist(match, bins=200, histtype='step',edgecolor='r',linewidth=3)\n",
    "# H, bins = np.histogram(data[:6], bins=5, range=[-1, 4])\n",
    "# H+=np.histogram(data[6:], bins=5,range=[-1, 4])[0]\n",
    "\n",
    "# plt.bar(bins[:-1],H,width=1)\n",
    "\n",
    "plt.show()"
   ]
  },
  {
   "cell_type": "code",
   "execution_count": null,
   "metadata": {
    "ExecuteTime": {
     "start_time": "2021-02-18T00:19:01.958Z"
    }
   },
   "outputs": [],
   "source": [
    "# regex = r'^(football|soccer|basketball).*$'\n",
    "\n",
    "# def compare_word(words):\n",
    "#     match = []\n",
    "#     for word in words:\n",
    "#         if re.search(regex, word):\n",
    "#             match.append(word)\n",
    "#     if len(match) == 0:\n",
    "#         match = None\n",
    "#     return match\n",
    "        \n",
    "# df[['match2']] = df['tokens'].parallel_apply(compare_word)\n",
    "# df.dropna()"
   ]
  },
  {
   "cell_type": "code",
   "execution_count": null,
   "metadata": {},
   "outputs": [],
   "source": []
  }
 ],
 "metadata": {
  "kernelspec": {
   "display_name": "Python [conda env:py36]",
   "language": "python",
   "name": "conda-env-py36-py"
  },
  "language_info": {
   "codemirror_mode": {
    "name": "ipython",
    "version": 3
   },
   "file_extension": ".py",
   "mimetype": "text/x-python",
   "name": "python",
   "nbconvert_exporter": "python",
   "pygments_lexer": "ipython3",
   "version": "3.6.12"
  },
  "toc": {
   "base_numbering": 1,
   "nav_menu": {},
   "number_sections": true,
   "sideBar": true,
   "skip_h1_title": false,
   "title_cell": "Table of Contents",
   "title_sidebar": "Contents",
   "toc_cell": false,
   "toc_position": {
    "height": "calc(100% - 180px)",
    "left": "10px",
    "top": "150px",
    "width": "287.188px"
   },
   "toc_section_display": true,
   "toc_window_display": true
  }
 },
 "nbformat": 4,
 "nbformat_minor": 4
}
