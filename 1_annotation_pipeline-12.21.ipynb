{
 "cells": [
  {
   "cell_type": "markdown",
   "metadata": {},
   "source": [
    "__author__      = \"Yibo HU\"\n",
    "\n",
    "Last_updated: 12/21/2020\n",
    "\n",
    "This is a jupyter notebook of the annotation pipeline\n",
    "modified from \n",
    "\n",
    "https://github.com/the-knightfury/SATP-Event-Classification-V1/tree/master/SourceCode\n",
    "\n",
    "Thanks to Shahreen\n",
    "\n",
    "\n",
    "For new updates in annotations, simply import the libraries below and run step 5 only."
   ]
  },
  {
   "cell_type": "code",
   "execution_count": 1,
   "metadata": {
    "ExecuteTime": {
     "end_time": "2020-12-21T21:50:14.351032Z",
     "start_time": "2020-12-21T21:50:13.832993Z"
    }
   },
   "outputs": [],
   "source": [
    "# -*- coding: utf-8 -*-\n",
    "import requests\n",
    "from bs4 import BeautifulSoup\n",
    "import re\n",
    "import pandas as pd\n",
    "import sklearn\n",
    "import time"
   ]
  },
  {
   "cell_type": "markdown",
   "metadata": {},
   "source": [
    "# 1. crawler_terrorism_articles_tags"
   ]
  },
  {
   "cell_type": "code",
   "execution_count": null,
   "metadata": {},
   "outputs": [],
   "source": [
    "months = [\"jan\", \"feb\", \"mar\", \"apr\", \"may\", \"jun\", \"jul\", \"aug\", \"sep\", \"oct\", \"nov\", \"dec\"]\n",
    "countries = [\"bangladesh\", \"india\", \"pakistan\", \"bhutan\", \"nepal\", \"maldives\", \"afghanistan\", \"srilanka\"]\n",
    "years = [\"2019\", \"2018\", \"2017\", \"2016\", \"2015\", \"2014\", \"2013\", \"2012\", \"2011\", \"2010\"]\n",
    "\n",
    "# Saving News Content and The Country wise location in these 2 lists\n",
    "news_contents = []\n",
    "news_location = []\n",
    "\n",
    "for i in years:\n",
    "    print(\"year:\", i)\n",
    "    # Iterating over each country\n",
    "    for k in countries:\n",
    "        # Iterating over each month\n",
    "        print(\"\\tcountry:\", k)\n",
    "        for j in months:\n",
    "            print('\\t\\tmonths:', j)\n",
    "\n",
    "            url = \"https://www.satp.org/terrorist-activity/\"+ k + \"-\" + j + \"-\" + i\n",
    "\n",
    "            # Request\n",
    "            r1 = requests.get(url)\n",
    "\n",
    "            # We'll save in coverpage the cover page content\n",
    "            coverpage = r1.content\n",
    "\n",
    "            # Soup creation\n",
    "            soup1 = BeautifulSoup(coverpage, 'html.parser')\n",
    "\n",
    "            # News identification\n",
    "            coverpage_news = soup1.find_all('div', class_='more')\n",
    "\n",
    "            news_size = len(coverpage_news)\n",
    "\n",
    "            for paragraph_num in range(news_size):\n",
    "                paragraph = coverpage_news[paragraph_num].get_text()\n",
    "                paragraph = re.sub(\"^\\s+|\\s+$\", \"\", paragraph, flags=re.UNICODE)\n",
    "                paragraph = \" \".join(re.split(\"\\s+\", paragraph, flags=re.UNICODE)[:-2])\n",
    "                news_location.append(k)\n",
    "                news_contents.append(paragraph)\n",
    "\n",
    "        print(\"\\tcountry:\", k, ' ' ,len(news_contents))\n",
    "\n",
    "news_data = pd.DataFrame({'location': news_location,\n",
    "                          'news': news_contents})\n",
    "\n",
    "print(news_data.shape)\n",
    "\n",
    "# news_data.to_csv ('./Satp_Data/news_satp_2010.csv', index = False, header=True)"
   ]
  },
  {
   "cell_type": "markdown",
   "metadata": {},
   "source": [
    "# 2. process_data_for_annotation"
   ]
  },
  {
   "cell_type": "code",
   "execution_count": 2,
   "metadata": {},
   "outputs": [],
   "source": [
    "def remove_special_characters(data, col_name):\n",
    "    spec_chars = [\"!\", '\"', \"#\", \"%\", \"&\", \"'\", \"*\", \"+\", \"-\", \"/\", \":\", \";\", \"<\", \"=\",\n",
    "                  \">\", \"?\", \"@\", \"[\", \"\\\\\", \"]\", \"^\", \"_\", \"`\", \"{\", \"|\", \"}\", \"~\", \"–\"]\n",
    "    for char in spec_chars:\n",
    "        data[col_name] = data[col_name].str.replace(char, ' ')\n",
    "    data[col_name] = data[col_name].str.split().str.join(\" \")\n",
    "    return data\n",
    "\n",
    "def probable_relevant_story(news, event_set, threshold):\n",
    "    tokenized = news.split(\" \")\n",
    "    count = 0\n",
    "    for t in tokenized:\n",
    "        if t in event_set:\n",
    "            count += 1\n",
    "        if count >= threshold:\n",
    "            return True\n",
    "    return False"
   ]
  },
  {
   "cell_type": "code",
   "execution_count": 3,
   "metadata": {},
   "outputs": [],
   "source": [
    "master_data_path = 'RawSATPData/master_2011To2015.csv'\n",
    "master_data = pd.read_csv(master_data_path, header=[0])  \n",
    "master_data = remove_special_characters(master_data, 'news')"
   ]
  },
  {
   "cell_type": "code",
   "execution_count": 4,
   "metadata": {},
   "outputs": [
    {
     "data": {
      "text/plain": [
       "193"
      ]
     },
     "execution_count": 4,
     "metadata": {},
     "output_type": "execute_result"
    }
   ],
   "source": [
    "action_path = \"Data_Events/action.csv\" \n",
    "actions = pd.read_csv(action_path, header=None)   #  Here header should be None instead of [0] in the previous version\n",
    "actions_set = set(actions.iloc[:,0])\n",
    "len(actions_set)"
   ]
  },
  {
   "cell_type": "markdown",
   "metadata": {},
   "source": [
    "## Assume a threshold = 4 to select samples "
   ]
  },
  {
   "cell_type": "code",
   "execution_count": 9,
   "metadata": {},
   "outputs": [
    {
     "name": "stdout",
     "output_type": "stream",
     "text": [
      "(21902, 5)\n"
     ]
    }
   ],
   "source": [
    "# Step - 1 : Pull Out All the Probable relevant story\n",
    "master_data['Relevance'] = master_data['news'].apply(probable_relevant_story, args = (actions_set, 4))\n",
    "print(master_data[master_data['Relevance'] == True].shape)"
   ]
  },
  {
   "cell_type": "markdown",
   "metadata": {},
   "source": [
    "## save master data"
   ]
  },
  {
   "cell_type": "code",
   "execution_count": 5,
   "metadata": {},
   "outputs": [
    {
     "data": {
      "text/html": [
       "<div>\n",
       "<style scoped>\n",
       "    .dataframe tbody tr th:only-of-type {\n",
       "        vertical-align: middle;\n",
       "    }\n",
       "\n",
       "    .dataframe tbody tr th {\n",
       "        vertical-align: top;\n",
       "    }\n",
       "\n",
       "    .dataframe thead th {\n",
       "        text-align: right;\n",
       "    }\n",
       "</style>\n",
       "<table border=\"1\" class=\"dataframe\">\n",
       "  <thead>\n",
       "    <tr style=\"text-align: right;\">\n",
       "      <th></th>\n",
       "      <th>year</th>\n",
       "      <th>month</th>\n",
       "      <th>location</th>\n",
       "      <th>news</th>\n",
       "    </tr>\n",
       "  </thead>\n",
       "  <tbody>\n",
       "    <tr>\n",
       "      <th>0</th>\n",
       "      <td>2015</td>\n",
       "      <td>1</td>\n",
       "      <td>bangladesh</td>\n",
       "      <td>On January 1, in Jhenidah, Police arrested nin...</td>\n",
       "    </tr>\n",
       "    <tr>\n",
       "      <th>1</th>\n",
       "      <td>2015</td>\n",
       "      <td>1</td>\n",
       "      <td>bangladesh</td>\n",
       "      <td>Police recovered a 7.6mm foreign pistol, a pip...</td>\n",
       "    </tr>\n",
       "    <tr>\n",
       "      <th>2</th>\n",
       "      <td>2015</td>\n",
       "      <td>1</td>\n",
       "      <td>bangladesh</td>\n",
       "      <td>The prosecution on January 1 filed a petition ...</td>\n",
       "    </tr>\n",
       "    <tr>\n",
       "      <th>3</th>\n",
       "      <td>2015</td>\n",
       "      <td>1</td>\n",
       "      <td>bangladesh</td>\n",
       "      <td>Police banned all protests in Dhaka city from ...</td>\n",
       "    </tr>\n",
       "    <tr>\n",
       "      <th>4</th>\n",
       "      <td>2015</td>\n",
       "      <td>1</td>\n",
       "      <td>bangladesh</td>\n",
       "      <td>Road Transport and Bridges Minister Obaidul Qu...</td>\n",
       "    </tr>\n",
       "    <tr>\n",
       "      <th>...</th>\n",
       "      <td>...</td>\n",
       "      <td>...</td>\n",
       "      <td>...</td>\n",
       "      <td>...</td>\n",
       "    </tr>\n",
       "    <tr>\n",
       "      <th>65078</th>\n",
       "      <td>2011</td>\n",
       "      <td>12</td>\n",
       "      <td>srilanka</td>\n",
       "      <td>President Mahinda Rajapakse said that the Army...</td>\n",
       "    </tr>\n",
       "    <tr>\n",
       "      <th>65079</th>\n",
       "      <td>2011</td>\n",
       "      <td>12</td>\n",
       "      <td>srilanka</td>\n",
       "      <td>Cabinet spokesman and Mass Media and Informati...</td>\n",
       "    </tr>\n",
       "    <tr>\n",
       "      <th>65080</th>\n",
       "      <td>2011</td>\n",
       "      <td>12</td>\n",
       "      <td>srilanka</td>\n",
       "      <td>Cabinet spokesman and Mass Media and Informati...</td>\n",
       "    </tr>\n",
       "    <tr>\n",
       "      <th>65081</th>\n",
       "      <td>2011</td>\n",
       "      <td>12</td>\n",
       "      <td>srilanka</td>\n",
       "      <td>An ally of Sri Lanka s governing United People...</td>\n",
       "    </tr>\n",
       "    <tr>\n",
       "      <th>65082</th>\n",
       "      <td>2011</td>\n",
       "      <td>12</td>\n",
       "      <td>srilanka</td>\n",
       "      <td>Mahinda Rajapakse recently told a media meetin...</td>\n",
       "    </tr>\n",
       "  </tbody>\n",
       "</table>\n",
       "<p>65083 rows × 4 columns</p>\n",
       "</div>"
      ],
      "text/plain": [
       "       year  month    location  \\\n",
       "0      2015      1  bangladesh   \n",
       "1      2015      1  bangladesh   \n",
       "2      2015      1  bangladesh   \n",
       "3      2015      1  bangladesh   \n",
       "4      2015      1  bangladesh   \n",
       "...     ...    ...         ...   \n",
       "65078  2011     12    srilanka   \n",
       "65079  2011     12    srilanka   \n",
       "65080  2011     12    srilanka   \n",
       "65081  2011     12    srilanka   \n",
       "65082  2011     12    srilanka   \n",
       "\n",
       "                                                    news  \n",
       "0      On January 1, in Jhenidah, Police arrested nin...  \n",
       "1      Police recovered a 7.6mm foreign pistol, a pip...  \n",
       "2      The prosecution on January 1 filed a petition ...  \n",
       "3      Police banned all protests in Dhaka city from ...  \n",
       "4      Road Transport and Bridges Minister Obaidul Qu...  \n",
       "...                                                  ...  \n",
       "65078  President Mahinda Rajapakse said that the Army...  \n",
       "65079  Cabinet spokesman and Mass Media and Informati...  \n",
       "65080  Cabinet spokesman and Mass Media and Informati...  \n",
       "65081  An ally of Sri Lanka s governing United People...  \n",
       "65082  Mahinda Rajapakse recently told a media meetin...  \n",
       "\n",
       "[65083 rows x 4 columns]"
      ]
     },
     "execution_count": 5,
     "metadata": {},
     "output_type": "execute_result"
    }
   ],
   "source": [
    "master_data"
   ]
  },
  {
   "cell_type": "code",
   "execution_count": null,
   "metadata": {},
   "outputs": [],
   "source": [
    "master_data.to_csv('Data_TagTog_NotAnnotated/master_2011to2015_probable_relevant_marked_data.csv', header=True, index=True, index_label='index')\n"
   ]
  },
  {
   "cell_type": "markdown",
   "metadata": {},
   "source": [
    "# 3. sample_data_for_annotation"
   ]
  },
  {
   "cell_type": "code",
   "execution_count": null,
   "metadata": {},
   "outputs": [],
   "source": [
    "# master_data = pd.read_csv('Data_TagTog_NotAnnotated/master_2011to2015_probable_relevant_marked_data.csv', header=[0])"
   ]
  },
  {
   "cell_type": "code",
   "execution_count": 6,
   "metadata": {
    "scrolled": true
   },
   "outputs": [
    {
     "data": {
      "text/plain": [
       "<AxesSubplot:>"
      ]
     },
     "execution_count": 6,
     "metadata": {},
     "output_type": "execute_result"
    },
    {
     "data": {
      "image/png": "[encoded data removed]",
      "text/plain": [
       "<Figure size 432x288 with 1 Axes>"
      ]
     },
     "metadata": {
      "needs_background": "light"
     },
     "output_type": "display_data"
    }
   ],
   "source": [
    "master_data['location'].value_counts().plot.bar(rot=45)"
   ]
  },
  {
   "cell_type": "code",
   "execution_count": 7,
   "metadata": {},
   "outputs": [
    {
     "data": {
      "text/plain": [
       "<AxesSubplot:>"
      ]
     },
     "execution_count": 7,
     "metadata": {},
     "output_type": "execute_result"
    },
    {
     "data": {
      "image/png": "[encoded data removed]",
      "text/plain": [
       "<Figure size 432x288 with 1 Axes>"
      ]
     },
     "metadata": {
      "needs_background": "light"
     },
     "output_type": "display_data"
    }
   ],
   "source": [
    "master_data['year'].value_counts().plot.bar(rot=45)"
   ]
  },
  {
   "cell_type": "markdown",
   "metadata": {},
   "source": [
    "## Sample 3000 rows each year"
   ]
  },
  {
   "cell_type": "code",
   "execution_count": 10,
   "metadata": {},
   "outputs": [],
   "source": [
    "relevant = master_data[master_data[\"Relevance\"] == True]\n",
    "grouped_df = relevant.groupby('year')\n",
    "# for key, item in grouped_df:\n",
    "#     print(grouped_df.get_group(key), \"\\n\\n\")"
   ]
  },
  {
   "cell_type": "code",
   "execution_count": 11,
   "metadata": {},
   "outputs": [
    {
     "data": {
      "text/html": [
       "<div>\n",
       "<style scoped>\n",
       "    .dataframe tbody tr th:only-of-type {\n",
       "        vertical-align: middle;\n",
       "    }\n",
       "\n",
       "    .dataframe tbody tr th {\n",
       "        vertical-align: top;\n",
       "    }\n",
       "\n",
       "    .dataframe thead th {\n",
       "        text-align: right;\n",
       "    }\n",
       "</style>\n",
       "<table border=\"1\" class=\"dataframe\">\n",
       "  <thead>\n",
       "    <tr style=\"text-align: right;\">\n",
       "      <th></th>\n",
       "      <th></th>\n",
       "      <th>year</th>\n",
       "      <th>month</th>\n",
       "      <th>location</th>\n",
       "      <th>news</th>\n",
       "      <th>Relevance</th>\n",
       "    </tr>\n",
       "    <tr>\n",
       "      <th>year</th>\n",
       "      <th></th>\n",
       "      <th></th>\n",
       "      <th></th>\n",
       "      <th></th>\n",
       "      <th></th>\n",
       "      <th></th>\n",
       "    </tr>\n",
       "  </thead>\n",
       "  <tbody>\n",
       "    <tr>\n",
       "      <th rowspan=\"5\" valign=\"top\">2011</th>\n",
       "      <th>61704</th>\n",
       "      <td>2011</td>\n",
       "      <td>7</td>\n",
       "      <td>pakistan</td>\n",
       "      <td>The Inter Services Intelligence (ISI) official...</td>\n",
       "      <td>True</td>\n",
       "    </tr>\n",
       "    <tr>\n",
       "      <th>57597</th>\n",
       "      <td>2011</td>\n",
       "      <td>9</td>\n",
       "      <td>india</td>\n",
       "      <td>Calling Naxalism (Left Wing Extremism) a bigge...</td>\n",
       "      <td>True</td>\n",
       "    </tr>\n",
       "    <tr>\n",
       "      <th>57025</th>\n",
       "      <td>2011</td>\n",
       "      <td>8</td>\n",
       "      <td>india</td>\n",
       "      <td>The Indian Navy captured a hijacked Iranian fl...</td>\n",
       "      <td>True</td>\n",
       "    </tr>\n",
       "    <tr>\n",
       "      <th>54760</th>\n",
       "      <td>2011</td>\n",
       "      <td>4</td>\n",
       "      <td>india</td>\n",
       "      <td>Times of India reports that Chichgarh squad of...</td>\n",
       "      <td>True</td>\n",
       "    </tr>\n",
       "    <tr>\n",
       "      <th>53994</th>\n",
       "      <td>2011</td>\n",
       "      <td>2</td>\n",
       "      <td>india</td>\n",
       "      <td>Indian Express reports that the cadres of the ...</td>\n",
       "      <td>True</td>\n",
       "    </tr>\n",
       "    <tr>\n",
       "      <th>...</th>\n",
       "      <th>...</th>\n",
       "      <td>...</td>\n",
       "      <td>...</td>\n",
       "      <td>...</td>\n",
       "      <td>...</td>\n",
       "      <td>...</td>\n",
       "    </tr>\n",
       "    <tr>\n",
       "      <th rowspan=\"5\" valign=\"top\">2015</th>\n",
       "      <th>3625</th>\n",
       "      <td>2015</td>\n",
       "      <td>6</td>\n",
       "      <td>india</td>\n",
       "      <td>Death toll rises to three as one more militant...</td>\n",
       "      <td>True</td>\n",
       "    </tr>\n",
       "    <tr>\n",
       "      <th>8755</th>\n",
       "      <td>2015</td>\n",
       "      <td>8</td>\n",
       "      <td>pakistan</td>\n",
       "      <td>Lahore High Court (LHC) issued a notice to the...</td>\n",
       "      <td>True</td>\n",
       "    </tr>\n",
       "    <tr>\n",
       "      <th>6061</th>\n",
       "      <td>2015</td>\n",
       "      <td>10</td>\n",
       "      <td>india</td>\n",
       "      <td>As there was early snowfall along the Line of ...</td>\n",
       "      <td>True</td>\n",
       "    </tr>\n",
       "    <tr>\n",
       "      <th>2769</th>\n",
       "      <td>2015</td>\n",
       "      <td>4</td>\n",
       "      <td>india</td>\n",
       "      <td>Chinar Corps General Officer Commanding (GOC) ...</td>\n",
       "      <td>True</td>\n",
       "    </tr>\n",
       "    <tr>\n",
       "      <th>8152</th>\n",
       "      <td>2015</td>\n",
       "      <td>5</td>\n",
       "      <td>pakistan</td>\n",
       "      <td>The United States (US) has handed over 14 comb...</td>\n",
       "      <td>True</td>\n",
       "    </tr>\n",
       "  </tbody>\n",
       "</table>\n",
       "<p>15000 rows × 5 columns</p>\n",
       "</div>"
      ],
      "text/plain": [
       "            year  month  location  \\\n",
       "year                                \n",
       "2011 61704  2011      7  pakistan   \n",
       "     57597  2011      9     india   \n",
       "     57025  2011      8     india   \n",
       "     54760  2011      4     india   \n",
       "     53994  2011      2     india   \n",
       "...          ...    ...       ...   \n",
       "2015 3625   2015      6     india   \n",
       "     8755   2015      8  pakistan   \n",
       "     6061   2015     10     india   \n",
       "     2769   2015      4     india   \n",
       "     8152   2015      5  pakistan   \n",
       "\n",
       "                                                         news  Relevance  \n",
       "year                                                                      \n",
       "2011 61704  The Inter Services Intelligence (ISI) official...       True  \n",
       "     57597  Calling Naxalism (Left Wing Extremism) a bigge...       True  \n",
       "     57025  The Indian Navy captured a hijacked Iranian fl...       True  \n",
       "     54760  Times of India reports that Chichgarh squad of...       True  \n",
       "     53994  Indian Express reports that the cadres of the ...       True  \n",
       "...                                                       ...        ...  \n",
       "2015 3625   Death toll rises to three as one more militant...       True  \n",
       "     8755   Lahore High Court (LHC) issued a notice to the...       True  \n",
       "     6061   As there was early snowfall along the Line of ...       True  \n",
       "     2769   Chinar Corps General Officer Commanding (GOC) ...       True  \n",
       "     8152   The United States (US) has handed over 14 comb...       True  \n",
       "\n",
       "[15000 rows x 5 columns]"
      ]
     },
     "execution_count": 11,
     "metadata": {},
     "output_type": "execute_result"
    }
   ],
   "source": [
    "sample_df = relevant.groupby('year').apply(lambda x: x.sample(3000))\n",
    "sample_df"
   ]
  },
  {
   "cell_type": "code",
   "execution_count": 12,
   "metadata": {},
   "outputs": [
    {
     "data": {
      "text/plain": [
       "<AxesSubplot:>"
      ]
     },
     "execution_count": 12,
     "metadata": {},
     "output_type": "execute_result"
    },
    {
     "data": {
      "image/png": "[encoded data removed]",
      "text/plain": [
       "<Figure size 432x288 with 1 Axes>"
      ]
     },
     "metadata": {
      "needs_background": "light"
     },
     "output_type": "display_data"
    }
   ],
   "source": [
    "sample_df['year'].value_counts().plot.bar(rot=45)"
   ]
  },
  {
   "cell_type": "code",
   "execution_count": 13,
   "metadata": {},
   "outputs": [
    {
     "data": {
      "text/plain": [
       "<AxesSubplot:>"
      ]
     },
     "execution_count": 13,
     "metadata": {},
     "output_type": "execute_result"
    },
    {
     "data": {
      "image/png": "[encoded data removed]",
      "text/plain": [
       "<Figure size 432x288 with 1 Axes>"
      ]
     },
     "metadata": {
      "needs_background": "light"
     },
     "output_type": "display_data"
    }
   ],
   "source": [
    "sample_df['location'].value_counts().plot.bar(rot=45)"
   ]
  },
  {
   "cell_type": "code",
   "execution_count": 14,
   "metadata": {},
   "outputs": [
    {
     "name": "stdout",
     "output_type": "stream",
     "text": [
      "Relevance:\n",
      "\n",
      "True    15000\n",
      "Name: Relevance, dtype: int64\n"
     ]
    }
   ],
   "source": [
    "print('Relevance:\\n')\n",
    "print(sample_df['Relevance'].value_counts())"
   ]
  },
  {
   "cell_type": "markdown",
   "metadata": {},
   "source": [
    "## Sample 60% from each location (Total 9000)"
   ]
  },
  {
   "cell_type": "code",
   "execution_count": 15,
   "metadata": {
    "scrolled": true
   },
   "outputs": [
    {
     "data": {
      "text/html": [
       "<div>\n",
       "<style scoped>\n",
       "    .dataframe tbody tr th:only-of-type {\n",
       "        vertical-align: middle;\n",
       "    }\n",
       "\n",
       "    .dataframe tbody tr th {\n",
       "        vertical-align: top;\n",
       "    }\n",
       "\n",
       "    .dataframe thead th {\n",
       "        text-align: right;\n",
       "    }\n",
       "</style>\n",
       "<table border=\"1\" class=\"dataframe\">\n",
       "  <thead>\n",
       "    <tr style=\"text-align: right;\">\n",
       "      <th></th>\n",
       "      <th></th>\n",
       "      <th></th>\n",
       "      <th>year</th>\n",
       "      <th>month</th>\n",
       "      <th>location</th>\n",
       "      <th>news</th>\n",
       "      <th>Relevance</th>\n",
       "    </tr>\n",
       "    <tr>\n",
       "      <th>location</th>\n",
       "      <th>year</th>\n",
       "      <th></th>\n",
       "      <th></th>\n",
       "      <th></th>\n",
       "      <th></th>\n",
       "      <th></th>\n",
       "      <th></th>\n",
       "    </tr>\n",
       "  </thead>\n",
       "  <tbody>\n",
       "    <tr>\n",
       "      <th rowspan=\"5\" valign=\"top\">afghanistan</th>\n",
       "      <th rowspan=\"4\" valign=\"top\">2015</th>\n",
       "      <th>10529</th>\n",
       "      <td>2015</td>\n",
       "      <td>7</td>\n",
       "      <td>afghanistan</td>\n",
       "      <td>Another senior Afghan Government official quot...</td>\n",
       "      <td>True</td>\n",
       "    </tr>\n",
       "    <tr>\n",
       "      <th>10523</th>\n",
       "      <td>2015</td>\n",
       "      <td>3</td>\n",
       "      <td>afghanistan</td>\n",
       "      <td>Tehreek e Taliban Pakistan (TTP) splinter grou...</td>\n",
       "      <td>True</td>\n",
       "    </tr>\n",
       "    <tr>\n",
       "      <th>10527</th>\n",
       "      <td>2015</td>\n",
       "      <td>7</td>\n",
       "      <td>afghanistan</td>\n",
       "      <td>Maulvi Shahidullah Shahid, a former Tehreek e ...</td>\n",
       "      <td>True</td>\n",
       "    </tr>\n",
       "    <tr>\n",
       "      <th>10525</th>\n",
       "      <td>2015</td>\n",
       "      <td>3</td>\n",
       "      <td>afghanistan</td>\n",
       "      <td>A US drone strike killed 11 Tehreek e Taliban ...</td>\n",
       "      <td>True</td>\n",
       "    </tr>\n",
       "    <tr>\n",
       "      <th>2011</th>\n",
       "      <th>64582</th>\n",
       "      <td>2011</td>\n",
       "      <td>9</td>\n",
       "      <td>afghanistan</td>\n",
       "      <td>The NATO led International Security Assistance...</td>\n",
       "      <td>True</td>\n",
       "    </tr>\n",
       "    <tr>\n",
       "      <th>...</th>\n",
       "      <th>...</th>\n",
       "      <th>...</th>\n",
       "      <td>...</td>\n",
       "      <td>...</td>\n",
       "      <td>...</td>\n",
       "      <td>...</td>\n",
       "      <td>...</td>\n",
       "    </tr>\n",
       "    <tr>\n",
       "      <th rowspan=\"5\" valign=\"top\">srilanka</th>\n",
       "      <th>2012</th>\n",
       "      <th>52294</th>\n",
       "      <td>2012</td>\n",
       "      <td>1</td>\n",
       "      <td>srilanka</td>\n",
       "      <td>Cabinet Spokesman and Media Minister Keheliya ...</td>\n",
       "      <td>True</td>\n",
       "    </tr>\n",
       "    <tr>\n",
       "      <th>2013</th>\n",
       "      <th>36942</th>\n",
       "      <td>2013</td>\n",
       "      <td>6</td>\n",
       "      <td>srilanka</td>\n",
       "      <td>Meanwhile, President Mahinda Rajapaksa, addres...</td>\n",
       "      <td>True</td>\n",
       "    </tr>\n",
       "    <tr>\n",
       "      <th>2014</th>\n",
       "      <th>23277</th>\n",
       "      <td>2014</td>\n",
       "      <td>11</td>\n",
       "      <td>srilanka</td>\n",
       "      <td>Sri Lanka’s Permanent Representative to the Un...</td>\n",
       "      <td>True</td>\n",
       "    </tr>\n",
       "    <tr>\n",
       "      <th>2013</th>\n",
       "      <th>36829</th>\n",
       "      <td>2013</td>\n",
       "      <td>4</td>\n",
       "      <td>srilanka</td>\n",
       "      <td>A man engaged in de mining in Muhamalai of Jaf...</td>\n",
       "      <td>True</td>\n",
       "    </tr>\n",
       "    <tr>\n",
       "      <th>2014</th>\n",
       "      <th>22849</th>\n",
       "      <td>2014</td>\n",
       "      <td>1</td>\n",
       "      <td>srilanka</td>\n",
       "      <td>The 18th anniversary of the deadliest suicide ...</td>\n",
       "      <td>True</td>\n",
       "    </tr>\n",
       "  </tbody>\n",
       "</table>\n",
       "<p>9000 rows × 5 columns</p>\n",
       "</div>"
      ],
      "text/plain": [
       "                        year  month     location  \\\n",
       "location    year                                   \n",
       "afghanistan 2015 10529  2015      7  afghanistan   \n",
       "                 10523  2015      3  afghanistan   \n",
       "                 10527  2015      7  afghanistan   \n",
       "                 10525  2015      3  afghanistan   \n",
       "            2011 64582  2011      9  afghanistan   \n",
       "...                      ...    ...          ...   \n",
       "srilanka    2012 52294  2012      1     srilanka   \n",
       "            2013 36942  2013      6     srilanka   \n",
       "            2014 23277  2014     11     srilanka   \n",
       "            2013 36829  2013      4     srilanka   \n",
       "            2014 22849  2014      1     srilanka   \n",
       "\n",
       "                                                                     news  \\\n",
       "location    year                                                            \n",
       "afghanistan 2015 10529  Another senior Afghan Government official quot...   \n",
       "                 10523  Tehreek e Taliban Pakistan (TTP) splinter grou...   \n",
       "                 10527  Maulvi Shahidullah Shahid, a former Tehreek e ...   \n",
       "                 10525  A US drone strike killed 11 Tehreek e Taliban ...   \n",
       "            2011 64582  The NATO led International Security Assistance...   \n",
       "...                                                                   ...   \n",
       "srilanka    2012 52294  Cabinet Spokesman and Media Minister Keheliya ...   \n",
       "            2013 36942  Meanwhile, President Mahinda Rajapaksa, addres...   \n",
       "            2014 23277  Sri Lanka’s Permanent Representative to the Un...   \n",
       "            2013 36829  A man engaged in de mining in Muhamalai of Jaf...   \n",
       "            2014 22849  The 18th anniversary of the deadliest suicide ...   \n",
       "\n",
       "                        Relevance  \n",
       "location    year                   \n",
       "afghanistan 2015 10529       True  \n",
       "                 10523       True  \n",
       "                 10527       True  \n",
       "                 10525       True  \n",
       "            2011 64582       True  \n",
       "...                           ...  \n",
       "srilanka    2012 52294       True  \n",
       "            2013 36942       True  \n",
       "            2014 23277       True  \n",
       "            2013 36829       True  \n",
       "            2014 22849       True  \n",
       "\n",
       "[9000 rows x 5 columns]"
      ]
     },
     "execution_count": 15,
     "metadata": {},
     "output_type": "execute_result"
    }
   ],
   "source": [
    "sample_df = sample_df.groupby('location').apply(lambda x: x.sample(frac = 0.6))\n",
    "sample_df"
   ]
  },
  {
   "cell_type": "code",
   "execution_count": 16,
   "metadata": {},
   "outputs": [
    {
     "name": "stdout",
     "output_type": "stream",
     "text": [
      "Relevance:\n",
      "\n",
      "True    9000\n",
      "Name: Relevance, dtype: int64\n"
     ]
    }
   ],
   "source": [
    "print('Relevance:\\n')\n",
    "print(sample_df['Relevance'].value_counts())"
   ]
  },
  {
   "cell_type": "code",
   "execution_count": 17,
   "metadata": {},
   "outputs": [
    {
     "data": {
      "text/plain": [
       "<AxesSubplot:>"
      ]
     },
     "execution_count": 17,
     "metadata": {},
     "output_type": "execute_result"
    },
    {
     "data": {
      "image/png": "[encoded data removed]",
      "text/plain": [
       "<Figure size 432x288 with 1 Axes>"
      ]
     },
     "metadata": {
      "needs_background": "light"
     },
     "output_type": "display_data"
    }
   ],
   "source": [
    "sample_df['location'].value_counts().plot.bar(rot=45)"
   ]
  },
  {
   "cell_type": "code",
   "execution_count": null,
   "metadata": {},
   "outputs": [],
   "source": [
    "# sample_df.to_csv(\"Data_TagTog_NotAnnotated/sampled_9000_relevant_data.csv\", header=True, index = False)"
   ]
  },
  {
   "cell_type": "markdown",
   "metadata": {},
   "source": [
    "# 4. create_data_for_annotation"
   ]
  },
  {
   "cell_type": "code",
   "execution_count": 18,
   "metadata": {},
   "outputs": [
    {
     "name": "stdout",
     "output_type": "stream",
     "text": [
      "Data_TagTog_NotAnnotated/TagTog_Data/news_satp_10.tsv (500, 5)\n",
      "Data_TagTog_NotAnnotated/TagTog_Data/news_satp_11.tsv (500, 5)\n",
      "Data_TagTog_NotAnnotated/TagTog_Data/news_satp_12.tsv (500, 5)\n",
      "Data_TagTog_NotAnnotated/TagTog_Data/news_satp_13.tsv (500, 5)\n",
      "Data_TagTog_NotAnnotated/TagTog_Data/news_satp_14.tsv (500, 5)\n",
      "Data_TagTog_NotAnnotated/TagTog_Data/news_satp_15.tsv (500, 5)\n",
      "Data_TagTog_NotAnnotated/TagTog_Data/news_satp_16.tsv (500, 5)\n",
      "Data_TagTog_NotAnnotated/TagTog_Data/news_satp_17.tsv (500, 5)\n",
      "Data_TagTog_NotAnnotated/TagTog_Data/news_satp_18.tsv (500, 5)\n",
      "Data_TagTog_NotAnnotated/TagTog_Data/news_satp_19.tsv (500, 5)\n",
      "Data_TagTog_NotAnnotated/TagTog_Data/news_satp_20.tsv (500, 5)\n",
      "Data_TagTog_NotAnnotated/TagTog_Data/news_satp_21.tsv (500, 5)\n",
      "Data_TagTog_NotAnnotated/TagTog_Data/news_satp_22.tsv (500, 5)\n",
      "Data_TagTog_NotAnnotated/TagTog_Data/news_satp_23.tsv (500, 5)\n",
      "Data_TagTog_NotAnnotated/TagTog_Data/news_satp_24.tsv (500, 5)\n",
      "Data_TagTog_NotAnnotated/TagTog_Data/news_satp_25.tsv (500, 5)\n",
      "Data_TagTog_NotAnnotated/TagTog_Data/news_satp_26.tsv (500, 5)\n",
      "Data_TagTog_NotAnnotated/TagTog_Data/news_satp_27.tsv (500, 5)\n"
     ]
    }
   ],
   "source": [
    "sample_df = pd.read_csv('Data_TagTog_NotAnnotated/sampled_9000_relevant_data.csv', header=[0])\n",
    "sample_df.drop(columns=[\"Relevance\"], inplace=True)\n",
    "\n",
    "chunk_size = int(sample_df.shape[0] / 18)\n",
    "i = 10\n",
    "for start in range(0, sample_df.shape[0], chunk_size):\n",
    "    df_subset = sample_df.iloc[start:start + chunk_size]\n",
    "    filename = 'Data_TagTog_NotAnnotated/TagTog_Data/news_satp_%s.tsv'%i\n",
    "    df_subset.to_csv(filename, index=False, header=True, sep='\\t')\n",
    "    i += 1\n",
    "    print(filename, df_subset.shape)"
   ]
  },
  {
   "cell_type": "markdown",
   "metadata": {},
   "source": [
    "# 5. retrieve_data_from_tagtog"
   ]
  },
  {
   "cell_type": "code",
   "execution_count": 2,
   "metadata": {
    "ExecuteTime": {
     "end_time": "2020-12-21T21:50:16.962828Z",
     "start_time": "2020-12-21T21:50:16.943496Z"
    }
   },
   "outputs": [],
   "source": [
    "from io import StringIO\n",
    "from pandarallel import pandarallel\n",
    "\n",
    "tagtogAPIUrl = \"https://www.tagtog.net/-api/documents/v1\"\n",
    "USERNAME = 'ssp180002'\n",
    "PASSWORD = '1234567'"
   ]
  },
  {
   "cell_type": "code",
   "execution_count": 3,
   "metadata": {
    "ExecuteTime": {
     "end_time": "2020-12-21T21:50:18.277181Z",
     "start_time": "2020-12-21T21:50:18.257645Z"
    },
    "code_folding": []
   },
   "outputs": [],
   "source": [
    "def get_doc_id(url = tagtogAPIUrl, project = None, folder = None):\n",
    "    auth = requests.auth.HTTPBasicAuth(username=USERNAME, password=PASSWORD)\n",
    "    params = {'project':project, 'owner': USERNAME, 'search':folder, 'page':'1', 'output':'csv'}\n",
    "    response = requests.get(url, params=params, auth=auth)\n",
    "    content = response.text.split('\\n')\n",
    "    return [i.split(',')[0] for i in content]\n",
    "\n",
    "def get_data(ids, url=tagtogAPIUrl, project = None,folder = None):\n",
    " \n",
    "    # Get entities\n",
    "    \n",
    "    auth = requests.auth.HTTPBasicAuth(username=USERNAME, password=PASSWORD)\n",
    "    params = {'project': project, 'owner': USERNAME, 'search': folder, 'page': '1',\n",
    "              'output': 'entitiestsv','ids': ids}\n",
    "\n",
    "    entitiestsv = requests.get(url, params=params, auth=auth)\n",
    "    \n",
    "    stringIO = StringIO(entitiestsv.text)\n",
    "    df = pd.read_csv(stringIO , sep=\"\\t\", names = ['text','annotated'])\n",
    "\n",
    "    index, year, month, country = df.text[1], df.text[3], df.text[5], df.text[7]\n",
    "    news = df.text[9:].str.cat().encode(\"ascii\", \"ignore\").decode()\n",
    "\n",
    "    target = df[df.annotated == 'Target-1']['text'].tolist()\n",
    "    source = df[df.annotated == 'Source-1']['text'].tolist()\n",
    "    action = df[df.annotated == 'Action-1']['text'].tolist()\n",
    "    location = df[df.annotated == 'Location-1']['text'].tolist()\n",
    "    date = df[df.annotated == 'Date-1']['text'].tolist()\n",
    "    \n",
    "       \n",
    "    # Get is_relevant and action_type\n",
    "    \n",
    "    auth = requests.auth.HTTPBasicAuth(username=USERNAME, password=PASSWORD)\n",
    "    params = {'project': project, 'owner': USERNAME, 'search': 'folder:pool', 'page': '1',\n",
    "              'output': 'ann.json','ids': ids}\n",
    "    response = requests.get(url, params=params, auth=auth)\n",
    "    json_data = response.json()\n",
    "\n",
    "    \n",
    "    # if no labels or not confirmed, return None\n",
    "    if 'm_1' not in json_data['metas']:\n",
    "        print('No labels', index)\n",
    "        return\n",
    "    else:\n",
    "        is_relevant =  json_data['metas']['m_1']['value']\n",
    "\n",
    "    if json_data['anncomplete'] == False:\n",
    "        print('Not confirmed', index)\n",
    "        return\n",
    "    \n",
    "\n",
    "    action_type = None\n",
    "    if json_data['entities']:\n",
    "        df2 = pd.json_normalize(json_data['entities'])\n",
    "        if  'fields.f_17.value' in df2.columns:\n",
    "            df2 = df2[['fields.f_17.value']].rename(columns={\"fields.f_17.value\": \"action_type\"})\n",
    "            df2 = df2.dropna()\n",
    "            if len(df2)==0:\n",
    "                action_type = \"NotSpecified\"\n",
    "            else: \n",
    "                action_type = df2.action_type.tolist()\n",
    "    \n",
    "\n",
    "    return [ids, index, is_relevant, target,\tsource,\taction,\taction_type, location,\tdate, country,\tyear,\tnews]"
   ]
  },
  {
   "cell_type": "markdown",
   "metadata": {},
   "source": [
    "## Parallelly retrieve annotations\n",
    "\n",
    "<big> Now we can retrieve annotations from folder p1 to the latest p15. Here I only show the process of getting p2-p15 because p1 use a different group of keys.  Let's ignore p1 but just use the original file by Shahreen.</big>"
   ]
  },
  {
   "cell_type": "code",
   "execution_count": 4,
   "metadata": {
    "ExecuteTime": {
     "end_time": "2020-12-21T21:50:39.275467Z",
     "start_time": "2020-12-21T21:50:25.674870Z"
    },
    "scrolled": true
   },
   "outputs": [
    {
     "name": "stdout",
     "output_type": "stream",
     "text": [
      "INFO: Pandarallel will run on 36 workers.\n",
      "INFO: Pandarallel will use Memory file system to transfer data between the main process and workers.\n",
      "\n",
      "----- p15 -----\n",
      "\n"
     ]
    }
   ],
   "source": [
    "pandarallel.initialize()\n",
    "\n",
    "for i in range(15,16):\n",
    "    p = 'p%s'%i\n",
    "    print('\\n----- %s -----\\n'%p)\n",
    "    project_list = ['demo', 'satp_news_data_500_'+ p]\n",
    "    folder_list = ['folder:pool/Practice', 'folder:pool']\n",
    "    \n",
    "    # Get item ids from the TagTog API\n",
    "    doc_id = get_doc_id(tagtogAPIUrl, project_list[1], folder_list[1])\n",
    "    # ignore the first row (header) and the final row (null)\n",
    "    doc_id = doc_id[1:-1] \n",
    "    \n",
    "\n",
    "    s = pd.Series(doc_id).parallel_apply(get_data, args = (tagtogAPIUrl, project_list[1], folder_list[1])).dropna()\n",
    "    df_all = pd.DataFrame(item for item in s)\n",
    "    df_all.columns = ['id','index','is_relevant', 'target', 'source', 'action', 'action_type' , 'location', 'date','country', 'year', 'news']\n",
    "    \n",
    "#     df_all.to_csv('Data_TagTog_Annotated/'+ p +'.csv', header=True, index=False)"
   ]
  },
  {
   "cell_type": "markdown",
   "metadata": {},
   "source": [
    "## Concatenation of all the annotations"
   ]
  },
  {
   "cell_type": "code",
   "execution_count": 5,
   "metadata": {
    "ExecuteTime": {
     "end_time": "2020-12-21T21:50:39.353390Z",
     "start_time": "2020-12-21T21:50:39.276752Z"
    }
   },
   "outputs": [
    {
     "name": "stdout",
     "output_type": "stream",
     "text": [
      "p1 p2 p3 p4 p5 p6 p7 p8 p9 p10 p11 p12 p13 p14 p15 "
     ]
    }
   ],
   "source": [
    "df_list=[]\n",
    "for i in range(1,16):\n",
    "    p = 'p%s'%i\n",
    "    print('%s'%p, end = ' ')\n",
    "    df = pd.read_csv('Data_TagTog_Annotated/'+ p +'.csv', header=[0]) \n",
    "    df_list.append(df)"
   ]
  },
  {
   "cell_type": "code",
   "execution_count": 6,
   "metadata": {
    "ExecuteTime": {
     "end_time": "2020-12-21T21:50:39.379938Z",
     "start_time": "2020-12-21T21:50:39.354347Z"
    }
   },
   "outputs": [
    {
     "data": {
      "text/html": [
       "<div>\n",
       "<style scoped>\n",
       "    .dataframe tbody tr th:only-of-type {\n",
       "        vertical-align: middle;\n",
       "    }\n",
       "\n",
       "    .dataframe tbody tr th {\n",
       "        vertical-align: top;\n",
       "    }\n",
       "\n",
       "    .dataframe thead th {\n",
       "        text-align: right;\n",
       "    }\n",
       "</style>\n",
       "<table border=\"1\" class=\"dataframe\">\n",
       "  <thead>\n",
       "    <tr style=\"text-align: right;\">\n",
       "      <th></th>\n",
       "      <th>id</th>\n",
       "      <th>is_relevant</th>\n",
       "      <th>target</th>\n",
       "      <th>source</th>\n",
       "      <th>action</th>\n",
       "      <th>action_type</th>\n",
       "      <th>location</th>\n",
       "      <th>date</th>\n",
       "      <th>country</th>\n",
       "      <th>year</th>\n",
       "      <th>news</th>\n",
       "      <th>index</th>\n",
       "    </tr>\n",
       "  </thead>\n",
       "  <tbody>\n",
       "    <tr>\n",
       "      <th>0</th>\n",
       "      <td>32355</td>\n",
       "      <td>True</td>\n",
       "      <td>['Rangers', 'Rangers', 'Military Police']</td>\n",
       "      <td>['Lashkar e Jhangvi LeJ', 'militants', 'milita...</td>\n",
       "      <td>['killing', 'killed', 'gunned']</td>\n",
       "      <td>['Armed Assault', 'Armed Assault', 'Armed Assa...</td>\n",
       "      <td>['Karachi']</td>\n",
       "      <td>['December 6']</td>\n",
       "      <td>pakistan</td>\n",
       "      <td>2016</td>\n",
       "      <td>Two Lashkar e Jhangvi LeJ militants Asim alias...</td>\n",
       "      <td>NaN</td>\n",
       "    </tr>\n",
       "    <tr>\n",
       "      <th>1</th>\n",
       "      <td>32398</td>\n",
       "      <td>True</td>\n",
       "      <td>['Security Forces', 'SFs', 'civilians']</td>\n",
       "      <td>NaN</td>\n",
       "      <td>['killed', 'fighting', 'wounded', 'fighting', ...</td>\n",
       "      <td>['Unknown', 'Unknown', 'Unknown', 'Unknown', '...</td>\n",
       "      <td>NaN</td>\n",
       "      <td>['December 20']</td>\n",
       "      <td>pakistan</td>\n",
       "      <td>2016</td>\n",
       "      <td>The Commander Southern Command Lieutenant Gene...</td>\n",
       "      <td>NaN</td>\n",
       "    </tr>\n",
       "    <tr>\n",
       "      <th>2</th>\n",
       "      <td>29171</td>\n",
       "      <td>True</td>\n",
       "      <td>['Naga', 'Naga', 'Nagas', 'Naga']</td>\n",
       "      <td>['Manipur Naga Peopleâ€™s Front', 'MNPF', 'MNP...</td>\n",
       "      <td>['explosion', 'exploded', 'bomb', 'attack']</td>\n",
       "      <td>['Bombing/Explosion', 'Bombing/Explosion', 'Bo...</td>\n",
       "      <td>NaN</td>\n",
       "      <td>['August 30']</td>\n",
       "      <td>india</td>\n",
       "      <td>2016</td>\n",
       "      <td>Meanwhile the underground organization Manipur...</td>\n",
       "      <td>NaN</td>\n",
       "    </tr>\n",
       "    <tr>\n",
       "      <th>3</th>\n",
       "      <td>25445</td>\n",
       "      <td>True</td>\n",
       "      <td>['Artisan Restaurant', 'foreigners', 'hostages']</td>\n",
       "      <td>['attackers', 'suicide fighters', 'suicide sol...</td>\n",
       "      <td>['gun battle', 'killing', 'injuring']</td>\n",
       "      <td>['Armed Assault', 'Armed Assault', 'Armed Assa...</td>\n",
       "      <td>['Dhaka']</td>\n",
       "      <td>['August', '27th']</td>\n",
       "      <td>bangladesh</td>\n",
       "      <td>2016</td>\n",
       "      <td>Islamic State IS in the latest issue of its on...</td>\n",
       "      <td>NaN</td>\n",
       "    </tr>\n",
       "    <tr>\n",
       "      <th>4</th>\n",
       "      <td>31739</td>\n",
       "      <td>True</td>\n",
       "      <td>['Muttahida Qaumi Movement', 'MQM', 'MQM']</td>\n",
       "      <td>NaN</td>\n",
       "      <td>['shot']</td>\n",
       "      <td>['Assassination']</td>\n",
       "      <td>['Naeemabad', 'Korangi', 'Karachi', 'Sindh']</td>\n",
       "      <td>['June 19']</td>\n",
       "      <td>pakistan</td>\n",
       "      <td>2016</td>\n",
       "      <td>A senior Muttahida Qaumi Movement MQM worker i...</td>\n",
       "      <td>NaN</td>\n",
       "    </tr>\n",
       "    <tr>\n",
       "      <th>...</th>\n",
       "      <td>...</td>\n",
       "      <td>...</td>\n",
       "      <td>...</td>\n",
       "      <td>...</td>\n",
       "      <td>...</td>\n",
       "      <td>...</td>\n",
       "      <td>...</td>\n",
       "      <td>...</td>\n",
       "      <td>...</td>\n",
       "      <td>...</td>\n",
       "      <td>...</td>\n",
       "      <td>...</td>\n",
       "    </tr>\n",
       "    <tr>\n",
       "      <th>7485</th>\n",
       "      <td>10483</td>\n",
       "      <td>False</td>\n",
       "      <td>[]</td>\n",
       "      <td>[]</td>\n",
       "      <td>[]</td>\n",
       "      <td>NaN</td>\n",
       "      <td>[]</td>\n",
       "      <td>[]</td>\n",
       "      <td>nepal</td>\n",
       "      <td>2015</td>\n",
       "      <td>Clashes between demonstrators and Police leave...</td>\n",
       "      <td>a9qjjlMsQqy8XtuhYUJ6QMLlDz88-news_satp_15.tsv_46</td>\n",
       "    </tr>\n",
       "    <tr>\n",
       "      <th>7486</th>\n",
       "      <td>42333</td>\n",
       "      <td>False</td>\n",
       "      <td>[]</td>\n",
       "      <td>[]</td>\n",
       "      <td>[]</td>\n",
       "      <td>NaN</td>\n",
       "      <td>[]</td>\n",
       "      <td>[]</td>\n",
       "      <td>india</td>\n",
       "      <td>2012</td>\n",
       "      <td>The death toll in the ongoing clashes between ...</td>\n",
       "      <td>a6U4BlcbFbLRZKmdIMjCcxSEV7ni-news_satp_15.tsv_35</td>\n",
       "    </tr>\n",
       "    <tr>\n",
       "      <th>7487</th>\n",
       "      <td>21314</td>\n",
       "      <td>False</td>\n",
       "      <td>[]</td>\n",
       "      <td>[]</td>\n",
       "      <td>[]</td>\n",
       "      <td>NaN</td>\n",
       "      <td>[]</td>\n",
       "      <td>[]</td>\n",
       "      <td>pakistan</td>\n",
       "      <td>2014</td>\n",
       "      <td>An unnamed security official revealed that Fro...</td>\n",
       "      <td>aBikefqUY7LvQEJe5Sn96IE92aEK-news_satp_15.tsv_39</td>\n",
       "    </tr>\n",
       "    <tr>\n",
       "      <th>7488</th>\n",
       "      <td>58183</td>\n",
       "      <td>True</td>\n",
       "      <td>['Police', 'Police']</td>\n",
       "      <td>['militants']</td>\n",
       "      <td>['grenade', 'grenade', 'exploded']</td>\n",
       "      <td>['Bombing/Explosion', 'Bombing/Explosion', 'Bo...</td>\n",
       "      <td>['Srinagar']</td>\n",
       "      <td>['October 16']</td>\n",
       "      <td>india</td>\n",
       "      <td>2011</td>\n",
       "      <td>Police said that militants hurled a grenade on...</td>\n",
       "      <td>a8iR07wYXkm9CV3iPTxqGE4CaaMC-news_satp_15.tsv_52</td>\n",
       "    </tr>\n",
       "    <tr>\n",
       "      <th>7489</th>\n",
       "      <td>33926</td>\n",
       "      <td>False</td>\n",
       "      <td>[]</td>\n",
       "      <td>[]</td>\n",
       "      <td>[]</td>\n",
       "      <td>NaN</td>\n",
       "      <td>[]</td>\n",
       "      <td>[]</td>\n",
       "      <td>pakistan</td>\n",
       "      <td>2013</td>\n",
       "      <td>A recently constituted task force on missing p...</td>\n",
       "      <td>aB.Fjm9WSEjgxfMeoHm8U_dDssXq-news_satp_15.tsv_41</td>\n",
       "    </tr>\n",
       "  </tbody>\n",
       "</table>\n",
       "<p>7490 rows × 12 columns</p>\n",
       "</div>"
      ],
      "text/plain": [
       "         id  is_relevant                                            target  \\\n",
       "0     32355         True         ['Rangers', 'Rangers', 'Military Police']   \n",
       "1     32398         True           ['Security Forces', 'SFs', 'civilians']   \n",
       "2     29171         True                 ['Naga', 'Naga', 'Nagas', 'Naga']   \n",
       "3     25445         True  ['Artisan Restaurant', 'foreigners', 'hostages']   \n",
       "4     31739         True        ['Muttahida Qaumi Movement', 'MQM', 'MQM']   \n",
       "...     ...          ...                                               ...   \n",
       "7485  10483        False                                                []   \n",
       "7486  42333        False                                                []   \n",
       "7487  21314        False                                                []   \n",
       "7488  58183         True                              ['Police', 'Police']   \n",
       "7489  33926        False                                                []   \n",
       "\n",
       "                                                 source  \\\n",
       "0     ['Lashkar e Jhangvi LeJ', 'militants', 'milita...   \n",
       "1                                                   NaN   \n",
       "2     ['Manipur Naga Peopleâ€™s Front', 'MNPF', 'MNP...   \n",
       "3     ['attackers', 'suicide fighters', 'suicide sol...   \n",
       "4                                                   NaN   \n",
       "...                                                 ...   \n",
       "7485                                                 []   \n",
       "7486                                                 []   \n",
       "7487                                                 []   \n",
       "7488                                      ['militants']   \n",
       "7489                                                 []   \n",
       "\n",
       "                                                 action  \\\n",
       "0                       ['killing', 'killed', 'gunned']   \n",
       "1     ['killed', 'fighting', 'wounded', 'fighting', ...   \n",
       "2           ['explosion', 'exploded', 'bomb', 'attack']   \n",
       "3                 ['gun battle', 'killing', 'injuring']   \n",
       "4                                              ['shot']   \n",
       "...                                                 ...   \n",
       "7485                                                 []   \n",
       "7486                                                 []   \n",
       "7487                                                 []   \n",
       "7488                 ['grenade', 'grenade', 'exploded']   \n",
       "7489                                                 []   \n",
       "\n",
       "                                            action_type  \\\n",
       "0     ['Armed Assault', 'Armed Assault', 'Armed Assa...   \n",
       "1     ['Unknown', 'Unknown', 'Unknown', 'Unknown', '...   \n",
       "2     ['Bombing/Explosion', 'Bombing/Explosion', 'Bo...   \n",
       "3     ['Armed Assault', 'Armed Assault', 'Armed Assa...   \n",
       "4                                     ['Assassination']   \n",
       "...                                                 ...   \n",
       "7485                                                NaN   \n",
       "7486                                                NaN   \n",
       "7487                                                NaN   \n",
       "7488  ['Bombing/Explosion', 'Bombing/Explosion', 'Bo...   \n",
       "7489                                                NaN   \n",
       "\n",
       "                                          location                date  \\\n",
       "0                                      ['Karachi']      ['December 6']   \n",
       "1                                              NaN     ['December 20']   \n",
       "2                                              NaN       ['August 30']   \n",
       "3                                        ['Dhaka']  ['August', '27th']   \n",
       "4     ['Naeemabad', 'Korangi', 'Karachi', 'Sindh']         ['June 19']   \n",
       "...                                            ...                 ...   \n",
       "7485                                            []                  []   \n",
       "7486                                            []                  []   \n",
       "7487                                            []                  []   \n",
       "7488                                  ['Srinagar']      ['October 16']   \n",
       "7489                                            []                  []   \n",
       "\n",
       "         country  year                                               news  \\\n",
       "0       pakistan  2016  Two Lashkar e Jhangvi LeJ militants Asim alias...   \n",
       "1       pakistan  2016  The Commander Southern Command Lieutenant Gene...   \n",
       "2          india  2016  Meanwhile the underground organization Manipur...   \n",
       "3     bangladesh  2016  Islamic State IS in the latest issue of its on...   \n",
       "4       pakistan  2016  A senior Muttahida Qaumi Movement MQM worker i...   \n",
       "...          ...   ...                                                ...   \n",
       "7485       nepal  2015  Clashes between demonstrators and Police leave...   \n",
       "7486       india  2012  The death toll in the ongoing clashes between ...   \n",
       "7487    pakistan  2014  An unnamed security official revealed that Fro...   \n",
       "7488       india  2011  Police said that militants hurled a grenade on...   \n",
       "7489    pakistan  2013  A recently constituted task force on missing p...   \n",
       "\n",
       "                                                 index  \n",
       "0                                                  NaN  \n",
       "1                                                  NaN  \n",
       "2                                                  NaN  \n",
       "3                                                  NaN  \n",
       "4                                                  NaN  \n",
       "...                                                ...  \n",
       "7485  a9qjjlMsQqy8XtuhYUJ6QMLlDz88-news_satp_15.tsv_46  \n",
       "7486  a6U4BlcbFbLRZKmdIMjCcxSEV7ni-news_satp_15.tsv_35  \n",
       "7487  aBikefqUY7LvQEJe5Sn96IE92aEK-news_satp_15.tsv_39  \n",
       "7488  a8iR07wYXkm9CV3iPTxqGE4CaaMC-news_satp_15.tsv_52  \n",
       "7489  aB.Fjm9WSEjgxfMeoHm8U_dDssXq-news_satp_15.tsv_41  \n",
       "\n",
       "[7490 rows x 12 columns]"
      ]
     },
     "execution_count": 6,
     "metadata": {},
     "output_type": "execute_result"
    }
   ],
   "source": [
    "df_total = pd.concat(df_list).reset_index(drop=True)\n",
    "df_total"
   ]
  },
  {
   "cell_type": "markdown",
   "metadata": {},
   "source": [
    " ## Running Performances"
   ]
  },
  {
   "cell_type": "code",
   "execution_count": 7,
   "metadata": {
    "ExecuteTime": {
     "end_time": "2020-12-21T21:50:42.379174Z",
     "start_time": "2020-12-21T21:50:42.079861Z"
    },
    "scrolled": true
   },
   "outputs": [
    {
     "name": "stderr",
     "output_type": "stream",
     "text": [
      "<ipython-input-7-09c4084b8dd4>:5: MatplotlibDeprecationWarning: Using a string of single character colors as a color sequence is deprecated since 3.2 and will be removed two minor releases later. Use an explicit list instead.\n",
      "  plt.bar(range(len(num_list)), num_list,color='rgb',tick_label=name_list, width=0.5)\n"
     ]
    },
    {
     "data": {
      "image/png": "[encoded data removed]",
      "text/plain": [
       "<Figure size 432x288 with 1 Axes>"
      ]
     },
     "metadata": {
      "needs_background": "light"
     },
     "output_type": "display_data"
    }
   ],
   "source": [
    "import matplotlib.pyplot as plt\n",
    "\n",
    "name_list = ['Previous','Parallel']\n",
    "num_list = [407,13]\n",
    "plt.bar(range(len(num_list)), num_list,color='rgb',tick_label=name_list, width=0.5)\n",
    "plt.show()"
   ]
  },
  {
   "cell_type": "code",
   "execution_count": null,
   "metadata": {},
   "outputs": [],
   "source": []
  }
 ],
 "metadata": {
  "kernelspec": {
   "display_name": "Python 3",
   "language": "python",
   "name": "python3"
  },
  "language_info": {
   "codemirror_mode": {
    "name": "ipython",
    "version": 3
   },
   "file_extension": ".py",
   "mimetype": "text/x-python",
   "name": "python",
   "nbconvert_exporter": "python",
   "pygments_lexer": "ipython3",
   "version": "3.8.3"
  },
  "toc": {
   "base_numbering": 1,
   "nav_menu": {},
   "number_sections": false,
   "sideBar": true,
   "skip_h1_title": false,
   "title_cell": "Table of Contents",
   "title_sidebar": "Contents",
   "toc_cell": false,
   "toc_position": {
    "height": "calc(100% - 180px)",
    "left": "10px",
    "top": "150px",
    "width": "261px"
   },
   "toc_section_display": true,
   "toc_window_display": true
  }
 },
 "nbformat": 4,
 "nbformat_minor": 4
}
